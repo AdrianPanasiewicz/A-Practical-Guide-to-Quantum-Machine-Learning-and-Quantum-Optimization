{
 "cells": [
  {
   "cell_type": "markdown",
   "metadata": {
    "id": "C6X9I0Mjdnpy"
   },
   "source": "c# CHAPTER 2 - The Tools of the Trade in Quantum Computing - PennyLane Code"
  },
  {
   "cell_type": "markdown",
   "metadata": {
    "id": "J_L0y3qfd1nW"
   },
   "source": [
    "*Note*: You may skip the following three cells if you have alredy installed the right versions of all the libraries mentioned in *Appendix D*. This will likely NOT be the case if you are running this notebook on a cloud service such as Google Colab.\n",
    "\n"
   ]
  },
  {
   "cell_type": "code",
   "metadata": {
    "id": "VJhmhFS9fGf0",
    "ExecuteTime": {
     "end_time": "2025-08-08T15:57:20.565568Z",
     "start_time": "2025-08-08T15:57:18.215436Z"
    }
   },
   "source": [
    "import pennylane as qml"
   ],
   "outputs": [],
   "execution_count": 1
  },
  {
   "cell_type": "code",
   "metadata": {
    "id": "vrl6Z5QKfU81",
    "ExecuteTime": {
     "end_time": "2025-08-08T15:57:20.574427Z",
     "start_time": "2025-08-08T15:57:20.569531Z"
    }
   },
   "source": [
    "dev = qml.device('default.qubit', wires = 2)"
   ],
   "outputs": [],
   "execution_count": 2
  },
  {
   "cell_type": "code",
   "metadata": {
    "id": "qfk0w-6lfVa2",
    "ExecuteTime": {
     "end_time": "2025-08-08T15:57:20.714034Z",
     "start_time": "2025-08-08T15:57:20.710165Z"
    }
   },
   "source": [
    "def qc():\n",
    "    qml.PauliX(wires = 0)\n",
    "    qml.Hadamard(wires = 0)\n",
    "    return qml.state()"
   ],
   "outputs": [],
   "execution_count": 3
  },
  {
   "cell_type": "code",
   "metadata": {
    "id": "4jywiOd2flkz",
    "ExecuteTime": {
     "end_time": "2025-08-08T15:57:20.750860Z",
     "start_time": "2025-08-08T15:57:20.740098Z"
    }
   },
   "source": [
    "qcirc = qml.QNode(qc, dev) # Assemble the circuit & the device.\n",
    "qcirc() # Run it!"
   ],
   "outputs": [
    {
     "data": {
      "text/plain": [
       "array([ 0.70710678+0.j,  0.        +0.j, -0.70710678+0.j,  0.        +0.j])"
      ]
     },
     "execution_count": 4,
     "metadata": {},
     "output_type": "execute_result"
    }
   ],
   "execution_count": 4
  },
  {
   "cell_type": "code",
   "metadata": {
    "id": "8cGH54ejfmV5",
    "ExecuteTime": {
     "end_time": "2025-08-08T15:57:20.769907Z",
     "start_time": "2025-08-08T15:57:20.762572Z"
    }
   },
   "source": [
    "@qml.qnode(dev) # We add this decorator to use the device dev.\n",
    "def qcirc():\n",
    "    qml.PauliX(wires = 0)\n",
    "    qml.Hadamard(wires = 0)\n",
    "    return qml.state()\n",
    "    \n",
    "# Now qcirc is already a QNode. We can just run it!\n",
    "qcirc()"
   ],
   "outputs": [
    {
     "data": {
      "text/plain": [
       "array([ 0.70710678+0.j,  0.        +0.j, -0.70710678+0.j,  0.        +0.j])"
      ]
     },
     "execution_count": 5,
     "metadata": {},
     "output_type": "execute_result"
    }
   ],
   "execution_count": 5
  },
  {
   "cell_type": "code",
   "metadata": {
    "id": "h3Q6ewMxf7Oz",
    "ExecuteTime": {
     "end_time": "2025-08-08T15:57:20.803668Z",
     "start_time": "2025-08-08T15:57:20.798541Z"
    }
   },
   "source": [
    "dev = qml.device('default.qubit', wires = 1)\n",
    "@qml.qnode(dev)\n",
    "def qcirc(theta):\n",
    "    qml.RX(theta, wires = 0)\n",
    "    return qml.state()"
   ],
   "outputs": [],
   "execution_count": 6
  },
  {
   "cell_type": "code",
   "metadata": {
    "id": "8eg3Rex_f-8Q",
    "ExecuteTime": {
     "end_time": "2025-08-08T15:57:20.818166Z",
     "start_time": "2025-08-08T15:57:20.812138Z"
    }
   },
   "source": [
    "print(qml.draw(qcirc)(theta = 2))"
   ],
   "outputs": [
    {
     "name": "stdout",
     "output_type": "stream",
     "text": [
      "0: ──RX(2.00)─┤  State\n"
     ]
    }
   ],
   "execution_count": 7
  },
  {
   "cell_type": "code",
   "metadata": {
    "id": "iURSusrEgECx",
    "ExecuteTime": {
     "end_time": "2025-08-08T15:57:20.851274Z",
     "start_time": "2025-08-08T15:57:20.831857Z"
    }
   },
   "source": [
    "dev = qml.device('default.qubit', wires = 3)\n",
    "\n",
    "# Get probabilities\n",
    "@qml.qnode(dev)\n",
    "def qcirc():\n",
    "    qml.Hadamard(wires = 1)\n",
    "    return qml.probs(wires = [1, 2]) # Only the last 2 wires.\n",
    "prob = qcirc()\n",
    "print(\"Probs. wires [1, 2] with H in wire 1:\", prob)\n",
    "\n",
    "# Get a sample, not having specified shots in the device.\n",
    "@qml.qnode(dev)\n",
    "def qcirc():\n",
    "    qml.Hadamard(wires = 0)\n",
    "    return qml.sample(wires = 0) # Only the first wire.\n",
    "s1 = qcirc(shots = 4) # We specify the shots here.\n",
    "print(\"Sample 1 after H:\", s1)\n",
    "\n",
    "# Get a sample with shots in the device.\n",
    "dev = qml.device('default.qubit', wires = 2, shots = 4)\n",
    "@qml.qnode(dev)\n",
    "def qcirc():\n",
    "    qml.Hadamard(wires=0)\n",
    "    return qml.sample() # Will sample all wires.\n",
    "s2 = qcirc()\n",
    "print(\"Sample 2 after H x I:\", s2)"
   ],
   "outputs": [
    {
     "name": "stdout",
     "output_type": "stream",
     "text": [
      "Probs. wires [1, 2] with H in wire 1: [0.5 0.  0.5 0. ]\n",
      "Sample 1 after H: [1 1 1 0]\n",
      "Sample 2 after H x I: [[1 0]\n",
      " [0 0]\n",
      " [0 0]\n",
      " [1 0]]\n"
     ]
    }
   ],
   "execution_count": 8
  },
  {
   "cell_type": "code",
   "metadata": {
    "id": "yJ1Oc1Q6gOPN",
    "ExecuteTime": {
     "end_time": "2025-08-08T15:57:23.194815Z",
     "start_time": "2025-08-08T15:57:20.865142Z"
    }
   },
   "source": [
    "dev = qml.device('qiskit.aer', wires = 2)\n",
    "@qml.qnode(dev)\n",
    "def qcirc():\n",
    "    qml.Hadamard(wires = 0)\n",
    "    return qml.probs(wires = 0)\n",
    "s = qcirc()\n",
    "print(\"The probabilities are\", s)"
   ],
   "outputs": [
    {
     "name": "stdout",
     "output_type": "stream",
     "text": [
      "The probabilities are [0.47363281 0.52636719]\n"
     ]
    }
   ],
   "execution_count": 9
  },
  {
   "cell_type": "markdown",
   "metadata": {
    "id": "VW0v33UbgyYD"
   },
   "source": [
    "*Note*: In the following cell, you need to replace \"1234\" with your actual IBM token. Refer to *Appendix D* in the book for instructions on how to create an account and get your token. Be very careful not to disclose your token to anyone!"
   ]
  },
  {
   "cell_type": "code",
   "metadata": {
    "id": "UOakFM20hl09",
    "ExecuteTime": {
     "end_time": "2025-08-08T15:57:23.210771Z",
     "start_time": "2025-08-08T15:57:23.206242Z"
    }
   },
   "source": [
    "ibm_token = \"1234\""
   ],
   "outputs": [],
   "execution_count": 10
  },
  {
   "cell_type": "code",
   "metadata": {
    "id": "X9RsDG_hglVb",
    "ExecuteTime": {
     "end_time": "2025-08-08T15:57:24.503689Z",
     "start_time": "2025-08-08T15:57:23.219799Z"
    }
   },
   "source": [
    "# Import the modules.\n",
    "from qiskit import *\n",
    "from qiskit.providers.ibmq import *\n",
    "\n",
    "# Save our token if we haven't already.\n",
    "IBMQ.save_account(ibm_token)\n",
    "\n",
    "# Load the account and get the name of the least busy backend.\n",
    "prov = IBMQ.load_account()\n",
    "bck = least_busy(prov.backends(simulator = False)).name()\n",
    "\n",
    "# Invoke the PennyLane IBMQ device.\n",
    "dev = qml.device('qiskit.ibmq', wires = 1,\n",
    "    backend = bck, provider = prov)\n",
    "\n",
    "# Send a circuit and get some results!\n",
    "@qml.qnode(dev)\n",
    "def qcirc():\n",
    "    qml.Hadamard(wires = 0)\n",
    "    return qml.probs(wires = 0)\n",
    "print(qcirc())"
   ],
   "outputs": [
    {
     "ename": "ModuleNotFoundError",
     "evalue": "No module named 'qiskit.providers.ibmq'",
     "output_type": "error",
     "traceback": [
      "\u001B[31m---------------------------------------------------------------------------\u001B[39m",
      "\u001B[31mModuleNotFoundError\u001B[39m                       Traceback (most recent call last)",
      "\u001B[36mCell\u001B[39m\u001B[36m \u001B[39m\u001B[32mIn[11]\u001B[39m\u001B[32m, line 3\u001B[39m\n\u001B[32m      1\u001B[39m \u001B[38;5;66;03m# Import the modules.\u001B[39;00m\n\u001B[32m      2\u001B[39m \u001B[38;5;28;01mfrom\u001B[39;00m\u001B[38;5;250m \u001B[39m\u001B[34;01mqiskit\u001B[39;00m\u001B[38;5;250m \u001B[39m\u001B[38;5;28;01mimport\u001B[39;00m *\n\u001B[32m----> \u001B[39m\u001B[32m3\u001B[39m \u001B[38;5;28;01mfrom\u001B[39;00m\u001B[38;5;250m \u001B[39m\u001B[34;01mqiskit\u001B[39;00m\u001B[34;01m.\u001B[39;00m\u001B[34;01mproviders\u001B[39;00m\u001B[34;01m.\u001B[39;00m\u001B[34;01mibmq\u001B[39;00m\u001B[38;5;250m \u001B[39m\u001B[38;5;28;01mimport\u001B[39;00m *\n\u001B[32m      5\u001B[39m \u001B[38;5;66;03m# Save our token if we haven't already.\u001B[39;00m\n\u001B[32m      6\u001B[39m IBMQ.save_account(ibm_token)\n",
      "\u001B[31mModuleNotFoundError\u001B[39m: No module named 'qiskit.providers.ibmq'"
     ]
    }
   ],
   "execution_count": 11
  }
 ],
 "metadata": {
  "colab": {
   "provenance": []
  },
  "kernelspec": {
   "display_name": "Python 3 (ipykernel)",
   "language": "python",
   "name": "python3"
  },
  "language_info": {
   "codemirror_mode": {
    "name": "ipython",
    "version": 3
   },
   "file_extension": ".py",
   "mimetype": "text/x-python",
   "name": "python",
   "nbconvert_exporter": "python",
   "pygments_lexer": "ipython3",
   "version": "3.10.8"
  }
 },
 "nbformat": 4,
 "nbformat_minor": 0
}
