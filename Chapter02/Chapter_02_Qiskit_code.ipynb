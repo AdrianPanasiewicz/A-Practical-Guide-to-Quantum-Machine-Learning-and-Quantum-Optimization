{
 "cells": [
  {
   "cell_type": "markdown",
   "metadata": {
    "id": "C6X9I0Mjdnpy"
   },
   "source": [
    "# CHAPTER 2 - The Tools of the Trade in Quantum Computing - Qiskit Code"
   ]
  },
  {
   "cell_type": "markdown",
   "metadata": {
    "id": "J_L0y3qfd1nW"
   },
   "source": [
    "*Note*: You may skip the following two cells if you have alredy installed the right versions of all the libraries mentioned in *Appendix D*. This will likely NOT be the case if you are running this notebook on a cloud service such as Google Colab."
   ]
  },
  {
   "metadata": {
    "ExecuteTime": {
     "end_time": "2025-08-08T15:59:06.348247Z",
     "start_time": "2025-08-08T15:59:05.844274Z"
    }
   },
   "cell_type": "code",
   "source": "from qiskit import *",
   "outputs": [],
   "execution_count": 2
  },
  {
   "cell_type": "code",
   "metadata": {
    "id": "vrl6Z5QKfU81",
    "ExecuteTime": {
     "end_time": "2025-08-08T15:59:06.363549Z",
     "start_time": "2025-08-08T15:59:06.359388Z"
    }
   },
   "source": [
    "qreg1 = QuantumRegister(size = 2, name = \"qrg1\")\n",
    "qreg2 = QuantumRegister(1, \"qrg2\")\n",
    "creg = ClassicalRegister(1, \"oldschool\")\n",
    "\n",
    "qc = QuantumCircuit(qreg1, creg, qreg2)"
   ],
   "outputs": [],
   "execution_count": 3
  },
  {
   "cell_type": "code",
   "metadata": {
    "id": "qfk0w-6lfVa2",
    "ExecuteTime": {
     "end_time": "2025-08-08T15:59:06.497128Z",
     "start_time": "2025-08-08T15:59:06.489412Z"
    }
   },
   "source": [
    "qc.draw()"
   ],
   "outputs": [
    {
     "data": {
      "text/plain": [
       "             \n",
       "     qrg1_0: \n",
       "             \n",
       "     qrg1_1: \n",
       "             \n",
       "       qrg2: \n",
       "             \n",
       "oldschool: 1/\n",
       "             "
      ],
      "text/html": [
       "<pre style=\"word-wrap: normal;white-space: pre;background: #fff0;line-height: 1.1;font-family: &quot;Courier New&quot;,Courier,monospace\">             \n",
       "     qrg1_0: \n",
       "             \n",
       "     qrg1_1: \n",
       "             \n",
       "       qrg2: \n",
       "             \n",
       "oldschool: 1/\n",
       "             </pre>"
      ]
     },
     "execution_count": 4,
     "metadata": {},
     "output_type": "execute_result"
    }
   ],
   "execution_count": 4
  },
  {
   "cell_type": "code",
   "metadata": {
    "id": "4jywiOd2flkz",
    "ExecuteTime": {
     "end_time": "2025-08-08T15:59:07.068338Z",
     "start_time": "2025-08-08T15:59:06.509307Z"
    }
   },
   "source": [
    "import numpy as np\n",
    "\n",
    "qc = QuantumCircuit(2) # Initialise the circuit.\n",
    "\n",
    "# We can now apply the gates sequentially.\n",
    "qc.x(0)\n",
    "qc.rx(np.pi/4, 1)\n",
    "qc.cx(0, 1)\n",
    "qc.u(np.pi/3, 0, np.pi, 0)\n",
    "\n",
    "qc.draw(\"mpl\")"
   ],
   "outputs": [
    {
     "data": {
      "text/plain": [
       "<Figure size 370.906x200.667 with 1 Axes>"
      ],
      "image/png": "[encoded data removed]"
     },
     "execution_count": 5,
     "metadata": {},
     "output_type": "execute_result"
    }
   ],
   "execution_count": 5
  },
  {
   "cell_type": "code",
   "metadata": {
    "id": "8cGH54ejfmV5",
    "ExecuteTime": {
     "end_time": "2025-08-08T15:59:07.148649Z",
     "start_time": "2025-08-08T15:59:07.083039Z"
    }
   },
   "source": "from qiskit_aer import AerSimulator",
   "outputs": [],
   "execution_count": 6
  },
  {
   "cell_type": "code",
   "metadata": {
    "id": "h3Q6ewMxf7Oz",
    "ExecuteTime": {
     "end_time": "2025-08-08T15:59:07.169693Z",
     "start_time": "2025-08-08T15:59:07.165850Z"
    }
   },
   "source": [
    "sim = AerSimulator()\n",
    "sim_GPU = AerSimulator(device = 'GPU')"
   ],
   "outputs": [],
   "execution_count": 7
  },
  {
   "cell_type": "code",
   "metadata": {
    "id": "8eg3Rex_f-8Q",
    "ExecuteTime": {
     "end_time": "2025-08-08T15:59:07.355346Z",
     "start_time": "2025-08-08T15:59:07.181537Z"
    }
   },
   "source": [
    "qc = QuantumCircuit(2, 2)\n",
    "qc.h(0)\n",
    "qc.measure(range(2), range(2))\n",
    "\n",
    "job = execute(qc, sim, shots = 1024)\n",
    "result = job.result()\n",
    "counts = result.get_counts()\n",
    "print(counts)"
   ],
   "outputs": [
    {
     "ename": "NameError",
     "evalue": "name 'execute' is not defined",
     "output_type": "error",
     "traceback": [
      "\u001B[31m---------------------------------------------------------------------------\u001B[39m",
      "\u001B[31mNameError\u001B[39m                                 Traceback (most recent call last)",
      "\u001B[36mCell\u001B[39m\u001B[36m \u001B[39m\u001B[32mIn[8]\u001B[39m\u001B[32m, line 5\u001B[39m\n\u001B[32m      2\u001B[39m qc.h(\u001B[32m0\u001B[39m)\n\u001B[32m      3\u001B[39m qc.measure(\u001B[38;5;28mrange\u001B[39m(\u001B[32m2\u001B[39m), \u001B[38;5;28mrange\u001B[39m(\u001B[32m2\u001B[39m))\n\u001B[32m----> \u001B[39m\u001B[32m5\u001B[39m job = execute(qc, sim, shots = \u001B[32m1024\u001B[39m)\n\u001B[32m      6\u001B[39m result = job.result()\n\u001B[32m      7\u001B[39m counts = result.get_counts()\n",
      "\u001B[31mNameError\u001B[39m: name 'execute' is not defined"
     ]
    }
   ],
   "execution_count": 8
  },
  {
   "cell_type": "code",
   "metadata": {
    "id": "iURSusrEgECx"
   },
   "source": [
    "from qiskit.visualization import *\n",
    "plot_histogram(counts)"
   ],
   "outputs": [],
   "execution_count": null
  },
  {
   "cell_type": "code",
   "metadata": {
    "id": "yJ1Oc1Q6gOPN"
   },
   "source": [
    "qc = QuantumCircuit(2, 2)\n",
    "qc.h(0)\n",
    "qc.save_statevector()\n",
    "qc.measure(0,0)\n",
    "qc.measure(1,1)\n",
    "\n",
    "result = execute(qc, sim, shots = 1024).result()\n",
    "sv = result.get_statevector()\n",
    "print(sv)\n",
    "counts = result.get_counts()\n",
    "print(counts)"
   ],
   "outputs": [],
   "execution_count": null
  },
  {
   "cell_type": "code",
   "metadata": {
    "id": "ldaUUGyfgRvO"
   },
   "source": [
    "sim_u = AerSimulator(method = 'unitary')\n",
    "\n",
    "qc = QuantumCircuit(1)\n",
    "qc.h(0)\n",
    "qc.save_unitary()\n",
    "\n",
    "result = execute(qc, sim_u).result()\n",
    "U = result.get_unitary(decimals = 4)\n",
    "print(U)"
   ],
   "outputs": [],
   "execution_count": null
  },
  {
   "cell_type": "markdown",
   "metadata": {
    "id": "VW0v33UbgyYD"
   },
   "source": [
    "*Note*: In the following cell, you need to replace \"1234\" with your actual IBM token. Refer to *Appendix D* in the book for instructions on how to create an account and get your token. Be very careful not to disclose your token to anyone!"
   ]
  },
  {
   "cell_type": "code",
   "metadata": {
    "id": "UOakFM20hl09"
   },
   "source": [
    "ibm_token=\"1234\"\n",
    "IBMQ.save_account(ibm_token)"
   ],
   "outputs": [],
   "execution_count": null
  },
  {
   "cell_type": "code",
   "metadata": {
    "id": "X9RsDG_hglVb"
   },
   "source": [
    "provider = IBMQ.load_account()\n",
    "print(provider.backends(simulator = False))"
   ],
   "outputs": [],
   "execution_count": null
  },
  {
   "cell_type": "code",
   "metadata": {
    "id": "2ziaDYnmgWtR"
   },
   "source": [
    "dev_list = provider.backends(\n",
    "    filters = lambda x: x.configuration().n_qubits >= 5,\n",
    "    simulator = False)"
   ],
   "outputs": [],
   "execution_count": null
  },
  {
   "cell_type": "code",
   "metadata": {
    "id": "KGMdoYOpgdST"
   },
   "source": [
    "from qiskit.providers.ibmq import *\n",
    "dev = least_busy(dev_list)"
   ],
   "outputs": [],
   "execution_count": null
  },
  {
   "cell_type": "code",
   "metadata": {
    "id": "OMzyNPDqiH8S"
   },
   "source": [
    "from qiskit.providers.ibmq.job import job_monitor\n",
    "\n",
    "# Let us set up a simple circuit.\n",
    "qc = QuantumCircuit(2)\n",
    "qc.h(0)\n",
    "qc.cx(0,1)\n",
    "qc.measure_all()\n",
    "\n",
    "# First, we run the circuit using the statevector simulator.\n",
    "sim = AerSimulator()\n",
    "result = execute(qc, sim, shots = 1024).result()\n",
    "counts_sim = result.get_counts()\n",
    "\n",
    "# Now we run it on the real device that we selected before.\n",
    "job = execute(qc, dev, shots = 1024)\n",
    "job_monitor(job)\n",
    "\n",
    "result = job.result()\n",
    "counts_dev = result.get_counts()"
   ],
   "outputs": [],
   "execution_count": null
  },
  {
   "cell_type": "code",
   "metadata": {
    "id": "Iv3TVA1ViIyd"
   },
   "source": [
    "print(counts_sim)\n",
    "print(counts_dev)"
   ],
   "outputs": [],
   "execution_count": null
  }
 ],
 "metadata": {
  "colab": {
   "provenance": []
  },
  "kernelspec": {
   "display_name": "Python 3 (ipykernel)",
   "language": "python",
   "name": "python3"
  },
  "language_info": {
   "codemirror_mode": {
    "name": "ipython",
    "version": 3
   },
   "file_extension": ".py",
   "mimetype": "text/x-python",
   "name": "python",
   "nbconvert_exporter": "python",
   "pygments_lexer": "ipython3",
   "version": "3.10.8"
  }
 },
 "nbformat": 4,
 "nbformat_minor": 0
}
