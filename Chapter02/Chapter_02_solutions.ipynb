{
 "cells": [
  {
   "metadata": {},
   "cell_type": "markdown",
   "source": "# CHAPTER 2 - The Tools of the Trade in Quantum Computing - PennyLane Code\n",
   "id": "d7da4cba0ece03fb"
  },
  {
   "metadata": {},
   "cell_type": "markdown",
   "source": [
    "*Note*: You may skip the following three cells if you have alredy installed the right versions of all the libraries mentioned in *Appendix D*. This will likely NOT be the case if you are running this notebook on a cloud service such as Google Colab.\n",
    "\n",
    "\n"
   ],
   "id": "d1b584526ac0dc3c"
  },
  {
   "metadata": {
    "ExecuteTime": {
     "end_time": "2025-08-08T20:09:15.999769Z",
     "start_time": "2025-08-08T20:09:10.892038Z"
    }
   },
   "cell_type": "code",
   "source": [
    "!pip install qiskit\n",
    "!pip install qiskit_aer\n",
    "!pip install pylatexenc"
   ],
   "id": "afa18a814b72003a",
   "outputs": [
    {
     "name": "stdout",
     "output_type": "stream",
     "text": [
      "Requirement already satisfied: qiskit in c:\\users\\adria\\miniconda3\\envs\\a-practical-guide-to-quantum-machine-learning-and-quantum-optimization\\lib\\site-packages (1.2.4)\n",
      "Requirement already satisfied: rustworkx>=0.15.0 in c:\\users\\adria\\miniconda3\\envs\\a-practical-guide-to-quantum-machine-learning-and-quantum-optimization\\lib\\site-packages (from qiskit) (0.16.0)\n",
      "Requirement already satisfied: numpy<3,>=1.17 in c:\\users\\adria\\miniconda3\\envs\\a-practical-guide-to-quantum-machine-learning-and-quantum-optimization\\lib\\site-packages (from qiskit) (2.3.2)\n",
      "Requirement already satisfied: scipy>=1.5 in c:\\users\\adria\\miniconda3\\envs\\a-practical-guide-to-quantum-machine-learning-and-quantum-optimization\\lib\\site-packages (from qiskit) (1.16.1)\n",
      "Requirement already satisfied: sympy>=1.3 in c:\\users\\adria\\miniconda3\\envs\\a-practical-guide-to-quantum-machine-learning-and-quantum-optimization\\lib\\site-packages (from qiskit) (1.12.1)\n",
      "Requirement already satisfied: dill>=0.3 in c:\\users\\adria\\miniconda3\\envs\\a-practical-guide-to-quantum-machine-learning-and-quantum-optimization\\lib\\site-packages (from qiskit) (0.4.0)\n",
      "Requirement already satisfied: python-dateutil>=2.8.0 in c:\\users\\adria\\miniconda3\\envs\\a-practical-guide-to-quantum-machine-learning-and-quantum-optimization\\lib\\site-packages (from qiskit) (2.9.0.post0)\n",
      "Requirement already satisfied: stevedore>=3.0.0 in c:\\users\\adria\\miniconda3\\envs\\a-practical-guide-to-quantum-machine-learning-and-quantum-optimization\\lib\\site-packages (from qiskit) (5.4.1)\n",
      "Requirement already satisfied: typing-extensions in c:\\users\\adria\\miniconda3\\envs\\a-practical-guide-to-quantum-machine-learning-and-quantum-optimization\\lib\\site-packages (from qiskit) (4.12.2)\n",
      "Requirement already satisfied: symengine<0.14,>=0.11 in c:\\users\\adria\\miniconda3\\envs\\a-practical-guide-to-quantum-machine-learning-and-quantum-optimization\\lib\\site-packages (from qiskit) (0.13.0)\n",
      "Requirement already satisfied: six>=1.5 in c:\\users\\adria\\miniconda3\\envs\\a-practical-guide-to-quantum-machine-learning-and-quantum-optimization\\lib\\site-packages (from python-dateutil>=2.8.0->qiskit) (1.16.0)\n",
      "Requirement already satisfied: pbr>=2.0.0 in c:\\users\\adria\\miniconda3\\envs\\a-practical-guide-to-quantum-machine-learning-and-quantum-optimization\\lib\\site-packages (from stevedore>=3.0.0->qiskit) (6.1.1)\n",
      "Requirement already satisfied: setuptools in c:\\users\\adria\\miniconda3\\envs\\a-practical-guide-to-quantum-machine-learning-and-quantum-optimization\\lib\\site-packages (from pbr>=2.0.0->stevedore>=3.0.0->qiskit) (78.1.1)\n",
      "Requirement already satisfied: mpmath<1.4.0,>=1.1.0 in c:\\users\\adria\\miniconda3\\envs\\a-practical-guide-to-quantum-machine-learning-and-quantum-optimization\\lib\\site-packages (from sympy>=1.3->qiskit) (1.3.0)\n",
      "Requirement already satisfied: qiskit_aer in c:\\users\\adria\\miniconda3\\envs\\a-practical-guide-to-quantum-machine-learning-and-quantum-optimization\\lib\\site-packages (0.16.0)\n",
      "Requirement already satisfied: qiskit>=1.1.0 in c:\\users\\adria\\miniconda3\\envs\\a-practical-guide-to-quantum-machine-learning-and-quantum-optimization\\lib\\site-packages (from qiskit_aer) (1.2.4)\n",
      "Requirement already satisfied: numpy>=1.16.3 in c:\\users\\adria\\miniconda3\\envs\\a-practical-guide-to-quantum-machine-learning-and-quantum-optimization\\lib\\site-packages (from qiskit_aer) (2.3.2)\n",
      "Requirement already satisfied: scipy>=1.0 in c:\\users\\adria\\miniconda3\\envs\\a-practical-guide-to-quantum-machine-learning-and-quantum-optimization\\lib\\site-packages (from qiskit_aer) (1.16.1)\n",
      "Requirement already satisfied: psutil>=5 in c:\\users\\adria\\miniconda3\\envs\\a-practical-guide-to-quantum-machine-learning-and-quantum-optimization\\lib\\site-packages (from qiskit_aer) (5.9.0)\n",
      "Requirement already satisfied: rustworkx>=0.15.0 in c:\\users\\adria\\miniconda3\\envs\\a-practical-guide-to-quantum-machine-learning-and-quantum-optimization\\lib\\site-packages (from qiskit>=1.1.0->qiskit_aer) (0.16.0)\n",
      "Requirement already satisfied: sympy>=1.3 in c:\\users\\adria\\miniconda3\\envs\\a-practical-guide-to-quantum-machine-learning-and-quantum-optimization\\lib\\site-packages (from qiskit>=1.1.0->qiskit_aer) (1.12.1)\n",
      "Requirement already satisfied: dill>=0.3 in c:\\users\\adria\\miniconda3\\envs\\a-practical-guide-to-quantum-machine-learning-and-quantum-optimization\\lib\\site-packages (from qiskit>=1.1.0->qiskit_aer) (0.4.0)\n",
      "Requirement already satisfied: python-dateutil>=2.8.0 in c:\\users\\adria\\miniconda3\\envs\\a-practical-guide-to-quantum-machine-learning-and-quantum-optimization\\lib\\site-packages (from qiskit>=1.1.0->qiskit_aer) (2.9.0.post0)\n",
      "Requirement already satisfied: stevedore>=3.0.0 in c:\\users\\adria\\miniconda3\\envs\\a-practical-guide-to-quantum-machine-learning-and-quantum-optimization\\lib\\site-packages (from qiskit>=1.1.0->qiskit_aer) (5.4.1)\n",
      "Requirement already satisfied: typing-extensions in c:\\users\\adria\\miniconda3\\envs\\a-practical-guide-to-quantum-machine-learning-and-quantum-optimization\\lib\\site-packages (from qiskit>=1.1.0->qiskit_aer) (4.12.2)\n",
      "Requirement already satisfied: symengine<0.14,>=0.11 in c:\\users\\adria\\miniconda3\\envs\\a-practical-guide-to-quantum-machine-learning-and-quantum-optimization\\lib\\site-packages (from qiskit>=1.1.0->qiskit_aer) (0.13.0)\n",
      "Requirement already satisfied: six>=1.5 in c:\\users\\adria\\miniconda3\\envs\\a-practical-guide-to-quantum-machine-learning-and-quantum-optimization\\lib\\site-packages (from python-dateutil>=2.8.0->qiskit>=1.1.0->qiskit_aer) (1.16.0)\n",
      "Requirement already satisfied: pbr>=2.0.0 in c:\\users\\adria\\miniconda3\\envs\\a-practical-guide-to-quantum-machine-learning-and-quantum-optimization\\lib\\site-packages (from stevedore>=3.0.0->qiskit>=1.1.0->qiskit_aer) (6.1.1)\n",
      "Requirement already satisfied: setuptools in c:\\users\\adria\\miniconda3\\envs\\a-practical-guide-to-quantum-machine-learning-and-quantum-optimization\\lib\\site-packages (from pbr>=2.0.0->stevedore>=3.0.0->qiskit>=1.1.0->qiskit_aer) (78.1.1)\n",
      "Requirement already satisfied: mpmath<1.4.0,>=1.1.0 in c:\\users\\adria\\miniconda3\\envs\\a-practical-guide-to-quantum-machine-learning-and-quantum-optimization\\lib\\site-packages (from sympy>=1.3->qiskit>=1.1.0->qiskit_aer) (1.3.0)\n",
      "Requirement already satisfied: pylatexenc in c:\\users\\adria\\miniconda3\\envs\\a-practical-guide-to-quantum-machine-learning-and-quantum-optimization\\lib\\site-packages (2.10)\n"
     ]
    }
   ],
   "execution_count": 1
  },
  {
   "metadata": {
    "ExecuteTime": {
     "end_time": "2025-08-08T20:09:17.226117Z",
     "start_time": "2025-08-08T20:09:16.224461Z"
    }
   },
   "cell_type": "code",
   "source": [
    "from qiskit import *\n",
    "from qiskit_aer import AerSimulator"
   ],
   "id": "400afa67d10feeb4",
   "outputs": [],
   "execution_count": 2
  },
  {
   "metadata": {
    "ExecuteTime": {
     "end_time": "2025-08-08T20:09:19.303871Z",
     "start_time": "2025-08-08T20:09:17.233531Z"
    }
   },
   "cell_type": "code",
   "source": [
    "sim = AerSimulator()\n",
    "sim_GPU = AerSimulator(device=\"GPU\")\n",
    "\n",
    "qc = QuantumCircuit(2,2)\n",
    "\n",
    "qc.h(0)\n",
    "qc.cx(0,1)\n",
    "qc.z(1)\n",
    "qc.x(0)\n",
    "qc.h(0)\n",
    "qc.h(1)\n",
    "qc.cx(0,1)\n",
    "qc.measure([1],[1])\n",
    "compiled_qc = transpile(qc,sim)\n",
    "\n",
    "qc.draw('mpl')"
   ],
   "id": "9d907aa3ce5abe21",
   "outputs": [
    {
     "data": {
      "text/plain": [
       "<Figure size 621.739x284.278 with 1 Axes>"
      ],
      "image/png": "[encoded data removed]"
     },
     "execution_count": 3,
     "metadata": {},
     "output_type": "execute_result"
    }
   ],
   "execution_count": 3
  },
  {
   "metadata": {
    "ExecuteTime": {
     "end_time": "2025-08-08T20:09:19.340499Z",
     "start_time": "2025-08-08T20:09:19.325930Z"
    }
   },
   "cell_type": "code",
   "source": [
    "job = sim.run(compiled_qc, shots = 1024)\n",
    "results = job.result()\n",
    "counts = results.get_counts()\n",
    "sign = \"-\" if list(counts.keys())[0][0] == \"1\" else \"+\"\n",
    "print(\"Phase of the entangled state:\", sign)"
   ],
   "id": "eaf141474dce093a",
   "outputs": [
    {
     "name": "stdout",
     "output_type": "stream",
     "text": [
      "Phase of the entangled state: -\n"
     ]
    }
   ],
   "execution_count": 4
  }
 ],
 "metadata": {
  "kernelspec": {
   "display_name": "Python 3",
   "language": "python",
   "name": "python3"
  },
  "language_info": {
   "codemirror_mode": {
    "name": "ipython",
    "version": 2
   },
   "file_extension": ".py",
   "mimetype": "text/x-python",
   "name": "python",
   "nbconvert_exporter": "python",
   "pygments_lexer": "ipython2",
   "version": "2.7.6"
  }
 },
 "nbformat": 4,
 "nbformat_minor": 5
}
