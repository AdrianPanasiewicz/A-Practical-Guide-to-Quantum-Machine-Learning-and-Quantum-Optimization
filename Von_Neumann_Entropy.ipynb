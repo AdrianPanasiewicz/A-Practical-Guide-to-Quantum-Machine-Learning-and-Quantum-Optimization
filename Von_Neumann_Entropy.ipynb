{
 "cells": [
  {
   "metadata": {
    "ExecuteTime": {
     "end_time": "2025-09-13T13:52:17.163104Z",
     "start_time": "2025-09-13T13:52:17.158191Z"
    }
   },
   "cell_type": "code",
   "source": [
    "import math\n",
    "import random\n",
    "import time\n",
    "from tqdm import tqdm\n",
    "from scipy.linalg import cosm\n",
    "\n",
    "import numpy as np\n",
    "from matplotlib import pyplot as plt\n",
    "from qiskit import QuantumCircuit, QuantumRegister, ClassicalRegister, transpile\n",
    "from qiskit.circuit.library import Initialize\n",
    "from qiskit.quantum_info import Statevector, entropy, DensityMatrix\n",
    "from qiskit_aer import AerSimulator"
   ],
   "id": "de79977987e91668",
   "outputs": [],
   "execution_count": 53
  },
  {
   "metadata": {},
   "cell_type": "markdown",
   "source": [
    "# Input:\n",
    " Constants epsilon, δ, Λ ∈ (0, 1), and copies of state ρ ∈ C2n×2n ."
   ],
   "id": "32c9b12b1c892088"
  },
  {
   "metadata": {
    "ExecuteTime": {
     "end_time": "2025-09-13T13:52:17.197219Z",
     "start_time": "2025-09-13T13:52:17.191668Z"
    }
   },
   "cell_type": "code",
   "source": [
    "def generate_vector_state(ev_delta, n):\n",
    "    if ev_delta < 0 or ev_delta > 1 / (2**n)**0.5:\n",
    "        raise ValueError(\"kappa too large for normalization\")\n",
    "    dim = 2**n\n",
    "    EV = [random.uniform(ev_delta, 1) for _ in range(dim)]\n",
    "    norm = math.sqrt(sum(x**2 for x in EV))\n",
    "    EV = [x/norm for x in EV]\n",
    "    return EV"
   ],
   "id": "c0dec50561704a3a",
   "outputs": [],
   "execution_count": 54
  },
  {
   "cell_type": "code",
   "id": "initial_id",
   "metadata": {
    "collapsed": true,
    "ExecuteTime": {
     "end_time": "2025-09-13T13:52:17.219657Z",
     "start_time": "2025-09-13T13:52:17.211872Z"
    }
   },
   "source": [
    "# This is problematic because initializing a mixed density matrix is not trivial. Maybe I will implement it later.\n",
    "def generate_rho(ev_delta, n):\n",
    "\tif ev_delta > 1:\n",
    "\t\traise ValueError(\"kappa must be less than or equal to 1\")\n",
    "\tdim = pow(2,n)\n",
    "\tEV = []\n",
    "\tfor i in range(dim):\n",
    "\t\tif sum(EV) <= 1 - ev_delta:\n",
    "\t\t\tphi_ev = random.uniform(ev_delta, 1-sum(EV))\n",
    "\t\t\tif 1-sum(EV)-phi_ev-ev_delta < 0 or i==dim-1:\n",
    "\t\t\t\tphi_ev = 1.0-sum(EV)\n",
    "\t\t\tEV.append(phi_ev)\n",
    "\t\telse:\n",
    "\t\t\tEV.append(0.0)\n",
    "\tEV = EV\n",
    "\trho = np.diag(EV)\n",
    "\n",
    "\tZ = np.random.randn(dim, dim) + 1j*np.random.randn(dim, dim)\n",
    "\tR, _ = np.linalg.qr(Z)\n",
    "\n",
    "\trho = R @ rho @ R.conj().T\n",
    "\treturn rho"
   ],
   "outputs": [],
   "execution_count": 55
  },
  {
   "metadata": {},
   "cell_type": "markdown",
   "source": [
    "# Helpful functions\n",
    "Compute coefficients L, K, Ml, and b(k)  l as given in Lemma 1."
   ],
   "id": "56294e91e0f01fe9"
  },
  {
   "metadata": {
    "ExecuteTime": {
     "end_time": "2025-09-13T13:52:17.270882Z",
     "start_time": "2025-09-13T13:52:17.260944Z"
    }
   },
   "cell_type": "code",
   "source": [
    "# Calculating blk\n",
    "def get_B(K, L):\n",
    "\tbkl_matrix = []\n",
    "\tfor k in range(1, K + 1):\n",
    "\t\tbl_array = []\n",
    "\t\tfor l in range(L+1):\n",
    "\t\t\tif k == 1:\n",
    "\t\t\t\tif l%2 == 0:\n",
    "\t\t\t\t\tblk = 0.0\n",
    "\t\t\t\telse:\n",
    "\t\t\t\t\tblk = 4/math.pi * pow(2,l)*l*math.comb(l-1, int((l-1)/2))\n",
    "\t\t\t\tbl_array.append(blk)\n",
    "\t\t\telse:\n",
    "\t\t\t\tblk = 0.0\n",
    "\t\t\t\tfor l_prime in range(l+1):\n",
    "\t\t\t\t\tblk += bkl_matrix[k-2][l_prime]*bkl_matrix[0][l-l_prime]\n",
    "\t\t\t\tbl_array.append(blk)\n",
    "\n",
    "\t\tbkl_matrix.append(bl_array)\n",
    "\n",
    "\treturn bkl_matrix\n",
    "\n",
    "def get_t(s, l):\n",
    "\treturn (2*s-l)*math.pi/2\n",
    "\n",
    "def get_f(s,l):\n",
    "\tk_sum= 0\n",
    "\tfor k in range(1,K+1):\n",
    "\t\tk_sum += B[k-1][l]/k\n",
    "\treturn k_sum*math.comb(l,s)/math.pow(2,l)\n",
    "\n",
    "def get_Q(s,l,error):\n",
    "\tQ = math.ceil((2*s-l)**2*math.pi**2/(4*error))\n",
    "\treturn Q\n"
   ],
   "id": "b70c8929452551dd",
   "outputs": [],
   "execution_count": 56
  },
  {
   "metadata": {},
   "cell_type": "markdown",
   "source": [
    "## Step 5\n",
    "Define a distribution as in Eq. (32)."
   ],
   "id": "4fb61c43aa6ec276"
  },
  {
   "metadata": {
    "ExecuteTime": {
     "end_time": "2025-09-13T13:52:17.307146Z",
     "start_time": "2025-09-13T13:52:17.301139Z"
    }
   },
   "cell_type": "code",
   "source": [
    "class ImportanceSampling:\n",
    "    def __init__(self, rho, D, U, F_norm):\n",
    "        self.samples = []\n",
    "        self.cdf = []\n",
    "        cumulative = 0.0\n",
    "        for l in range(L + 1):\n",
    "            for s in range(D[l], U[l] + 1):\n",
    "                R = np.trace(cosm(rho * (2*s - l) * np.pi / 2))\n",
    "                prob = get_f(s, l) / F_norm\n",
    "                cumulative += prob\n",
    "                self.samples.append((R, s, l))\n",
    "                self.cdf.append(cumulative)\n",
    "        self.cdf = [x / cumulative for x in self.cdf]\n",
    "\n",
    "    def generate_sample(self):\n",
    "        rand_val = random.uniform(0, 1)\n",
    "        # Binary search for efficiency\n",
    "        left, right = 0, len(self.cdf) - 1\n",
    "        while left < right:\n",
    "            mid = (left + right) // 2\n",
    "            if rand_val <= self.cdf[mid]:\n",
    "                right = mid\n",
    "            else:\n",
    "                left = mid + 1\n",
    "        return self.samples[left]"
   ],
   "id": "ab61cd908c0b9bc7",
   "outputs": [],
   "execution_count": 57
  },
  {
   "metadata": {},
   "cell_type": "markdown",
   "source": [
    "## Quantum subcircuits\n",
    "### 1. Select subcircuit"
   ],
   "id": "80b925415ab09a7"
  },
  {
   "metadata": {
    "ExecuteTime": {
     "end_time": "2025-09-13T13:52:17.353523Z",
     "start_time": "2025-09-13T13:52:17.346704Z"
    }
   },
   "cell_type": "code",
   "source": [
    "def select_subcircuit(qc_s, qc_m, rho_pair1, rho_pair2, deltat):\n",
    "\tsub = QuantumCircuit(qc_m, qc_s, rho_pair1, rho_pair2, name=\"swap_block\")\n",
    "\tsub.ccx(qc_m,qc_s[0],qc_s[1])\n",
    "\n",
    "\t# sub.barrier(rho_pair1, rho_pair2, label=\"Swap\")\n",
    "\n",
    "\tfor i in range(rho_pair1.size):\n",
    "\t\tsub.cx(rho_pair2[i], rho_pair1[i])\n",
    "\t\tsub.ccx(qc_s[1],rho_pair1[i],rho_pair2[i])\n",
    "\t\tsub.cx(rho_pair2[i], rho_pair1[i])\n",
    "\n",
    "\t# sub.barrier(rho_pair1, rho_pair2, label=\"Swap\")\n",
    "\n",
    "\tsub.ccx(qc_m,qc_s[0],qc_s[1])\n",
    "\tsub.cs(qc_m,qc_s[0])\n",
    "\tif deltat > 0:\n",
    "\t\tsub.cz(qc_m,qc_s[0])\n",
    "\n",
    "\treturn sub\n",
    "\n",
    "def select_swap(mother_circ, qc_s, qc_m, rho_pair1, rho_pair2, deltat, inverse = False):\n",
    "\tswap_block = select_subcircuit(qc_s, qc_m, rho_pair1, rho_pair2, deltat)\n",
    "\tmother_circ.append(swap_block, mother_circ.qubits) if not inverse else mother_circ.append(swap_block.inverse(), mother_circ.qubits)"
   ],
   "id": "363b3d3f51058948",
   "outputs": [],
   "execution_count": 58
  },
  {
   "metadata": {},
   "cell_type": "markdown",
   "source": "### 2. Initialize controlled statevector",
   "id": "2a42f5a4237d61e2"
  },
  {
   "metadata": {
    "ExecuteTime": {
     "end_time": "2025-09-13T13:52:17.395808Z",
     "start_time": "2025-09-13T13:52:17.388106Z"
    }
   },
   "cell_type": "code",
   "source": [
    "def controlled_statevector_subcircuit(control_qbit, target_qbit, statevector, control_state, label=\"\"):\n",
    "\tsub = QuantumCircuit(2, name=f\"Controlled_{label}\")\n",
    "\tinit_gate = Initialize(statevector)\n",
    "\tgate = init_gate.gates_to_uncompute().to_gate()\n",
    "\tgate.label = label\n",
    "\tc_gate = gate.control()\n",
    "\tif control_state == 1:\n",
    "\t\tsub.append(c_gate, [0, 1])\n",
    "\telif control_state == 0:\n",
    "\t\tsub.x(0)\n",
    "\t\tsub.append(c_gate, [0, 1])\n",
    "\t\tsub.x(0)\n",
    "\telse:\n",
    "\t\traise ValueError(\"control_state must be 0 or 1\")\n",
    "\treturn sub\n",
    "\n",
    "def apply_controlled_statevector(mother_circ, control_qbit, target_qbit, statevector, control_state, label=\"\", inverse = False):\n",
    "\tstatevector_block = controlled_statevector_subcircuit(control_qbit, target_qbit, statevector, control_state, label)\n",
    "\tmother_circ.append(statevector_block, [control_qbit,target_qbit]) if not inverse else mother_circ.append(statevector_block.inverse(), [control_qbit,target_qbit])"
   ],
   "id": "20f743f29d9a5785",
   "outputs": [],
   "execution_count": 59
  },
  {
   "metadata": {},
   "cell_type": "markdown",
   "source": "### 3. Swap operation exponentiation",
   "id": "340b23e79bfe438c"
  },
  {
   "metadata": {
    "ExecuteTime": {
     "end_time": "2025-09-13T13:52:17.431988Z",
     "start_time": "2025-09-13T13:52:17.421584Z"
    }
   },
   "cell_type": "code",
   "source": [
    "def w_module_circuit(qc_s, qc_m, rho_copies, deltat):\n",
    "\tsub = QuantumCircuit(qc_m, qc_s, *rho_copies, name=\"W_module\")\n",
    "\talpha = math.cos(deltat)+math.fabs(math.sin(deltat))\n",
    "\tif alpha >=2:\n",
    "\t\traise ValueError(\"alpha must be less than or equal to 2\")\n",
    "\tr1 = [alpha/2, math.sqrt(1-alpha**2/4)]\n",
    "\tr2 = [math.sqrt(math.cos(deltat)/alpha), math.sqrt(math.sin(deltat)/alpha)]\n",
    "\n",
    "\tapply_controlled_statevector(sub, qc_m, qc_s[0], r1, 1, \"R1\")\n",
    "\tapply_controlled_statevector(sub, qc_s[0], qc_s[1], r2, 0, \"R2\")\n",
    "\n",
    "\trho_pair1 = rho_copies[0]\n",
    "\trho_pair2 = rho_copies[1]\n",
    "\t# sub.barrier(label=\"Controlled_Swap\")\n",
    "\tselect_swap(sub, qc_s, qc_m, rho_pair1, rho_pair2, deltat)\n",
    "\t# sub.barrier(label=\"Controlled_Swap\")\n",
    "\n",
    "\tinit_gate = Initialize(r2)\n",
    "\tdagger_gate = init_gate.gates_to_uncompute().to_gate().inverse()\n",
    "\tdagger_gate.label = \"R2_dagger\"\n",
    "\tsub.append(dagger_gate, [qc_s[1]])\n",
    "\n",
    "\treturn sub\n",
    "\n",
    "def apply_w_circuit(mother_circ, qc_s, qc_m, rho_copies, deltat, inverse=False):\n",
    "\tw_block = w_module_circuit(qc_s, qc_m, rho_copies, deltat)\n",
    "\tmother_circ.append(w_block, mother_circ.qubits) if not inverse else mother_circ.append(w_block.inverse(), mother_circ.qubits)"
   ],
   "id": "38ce6223b289c0fc",
   "outputs": [],
   "execution_count": 60
  },
  {
   "metadata": {},
   "cell_type": "markdown",
   "source": "### 4. Swap exponentiation",
   "id": "302854b93cb66da1"
  },
  {
   "metadata": {
    "ExecuteTime": {
     "end_time": "2025-09-13T13:52:17.463843Z",
     "start_time": "2025-09-13T13:52:17.457197Z"
    }
   },
   "cell_type": "code",
   "source": [
    "def swap_exponentiation(qc_s, qc_m, rho_copies, deltat):\n",
    "\tsub = QuantumCircuit(qc_m, qc_s, *rho_copies, name=\"  Controlled e^(-iSΔt)  \")\n",
    "\tsub.label = \"e^(-iSΔt)\"\n",
    "\n",
    "\t# sub.barrier(label=\"Controlled_W\")\n",
    "\tapply_w_circuit(sub, qc_s, qc_m, rho_copies, deltat)\n",
    "\t# sub.barrier(label=\"Controlled_W\")\n",
    "\n",
    "\tsub.x(qc_s[0])\n",
    "\tsub.cz(qc_m,qc_s[0])\n",
    "\tsub.ccz(control_qubit1=qc_m,control_qubit2=qc_s[0],target_qubit=qc_s[1])\n",
    "\tsub.x(qc_s[0])\n",
    "\n",
    "\t# sub.barrier(label=\"Controlled_W_dagger\")\n",
    "\tapply_w_circuit(sub, qc_s, qc_m, rho_copies, deltat, inverse = True)\n",
    "\t# sub.barrier(label=\"Controlled_W_dagger\")\n",
    "\n",
    "\tsub.cz(qc_m,qc_s[0])\n",
    "\tsub.x(qc_s[0])\n",
    "\tsub.ccz(control_qubit1=qc_m,control_qubit2=qc_s[0],target_qubit=qc_s[1])\n",
    "\tsub.x(qc_s[0])\n",
    "\n",
    "\t# sub.barrier(label=\"Controlled_W\")\n",
    "\tapply_w_circuit(sub, qc_s, qc_m, rho_copies, deltat)\n",
    "\t# sub.barrier(label=\"Controlled_W\")\n",
    "\n",
    "\treturn sub\n",
    "\n",
    "def apply_swap_exponentiation(mother_circ, qc_s, qc_m, rho_copies, deltat, inverse=False):\n",
    "\tswap_exp_block = swap_exponentiation(qc_s, qc_m, rho_copies, deltat)\n",
    "\tmother_circ.append(swap_exp_block, mother_circ.qubits) if not inverse else mother_circ.append(swap_exp_block.inverse(), mother_circ.qubits)"
   ],
   "id": "8e73dfc0d23f0aa5",
   "outputs": [],
   "execution_count": 61
  },
  {
   "metadata": {},
   "cell_type": "markdown",
   "source": "## Function for step 12",
   "id": "aefe086e47971c65"
  },
  {
   "metadata": {
    "ExecuteTime": {
     "end_time": "2025-09-13T13:52:17.781525Z",
     "start_time": "2025-09-13T13:52:17.504251Z"
    }
   },
   "cell_type": "code",
   "source": [
    "def quantum_circuit(qstate, Q, deltat):\n",
    "\tnum_rho_size = qstate.num_qubits\n",
    "\n",
    "\tqc_m = QuantumRegister(1, name=\"measure_qubit\")\n",
    "\tqc_s = QuantumRegister(2, name=\"support_qubit\")\n",
    "\n",
    "\trho_copies = []\n",
    "\tfor i in range(2):\n",
    "\t\trho_copies.append(QuantumRegister(num_rho_size, name=f\"rho_{i+1}\"))\n",
    "\n",
    "\tcreq = ClassicalRegister(1, name=\"Measurement_results\")\n",
    "\tqc = QuantumCircuit(qc_m, qc_s, *rho_copies, creq, name=\"Von_Neumann_Entropy\")\n",
    "\n",
    "\tqc.initialize(qstate, rho_copies[0], normalize=True)\n",
    "\n",
    "\tqc.h(qc_m)\n",
    "\n",
    "\tfor i in range(1,Q+1):\n",
    "\t\tqc.initialize(qstate, rho_copies[1], normalize=True)\n",
    "\t\tapply_swap_exponentiation(qc, qc_s, qc_m, rho_copies, deltat)\n",
    "\n",
    "\tqc.h(qc_m)\n",
    "\tqc.measure(qc_m,creq)\n",
    "\treturn qc\n",
    "\n",
    "Q = 1\n",
    "deltat = 0.4\n",
    "kappa = 0.2\n",
    "n = 2\n",
    "qstate = generate_vector_state(kappa, n)\n",
    "qstate = Statevector(qstate)\n",
    "qc = quantum_circuit(qstate, Q, deltat)\n",
    "qc.draw(\"mpl\")\n",
    "# qc.decompose(reps=2).draw(\"mpl\")\n",
    "# step1 = qc.decompose(gates_to_decompose=['swap_exponentiation_block', 'swap_exponentiation_block_dg'])\n",
    "# step2 = step1.decompose(gates_to_decompose=['Controlled_R1','Controlled_R2', 'swap_block'])\n",
    "# step2.draw('mpl')\n",
    "# qc.decompose(reps=100).draw('mpl')"
   ],
   "id": "5debe88421a03935",
   "outputs": [
    {
     "data": {
      "text/plain": [
       "<Figure size 1147.19x702.333 with 1 Axes>"
      ],
      "image/png": "[encoded data removed]"
     },
     "execution_count": 62,
     "metadata": {},
     "output_type": "execute_result"
    }
   ],
   "execution_count": 62
  },
  {
   "metadata": {},
   "cell_type": "markdown",
   "source": "# Full algorithm",
   "id": "d139503414f8f2a4"
  },
  {
   "metadata": {
    "ExecuteTime": {
     "end_time": "2025-09-13T13:52:26.628082Z",
     "start_time": "2025-09-13T13:52:17.811355Z"
    }
   },
   "cell_type": "code",
   "source": [
    "epsilon = 0.4\n",
    "delta = 0.2\n",
    "deltat = 0.1\n",
    "kappa = 0.35\n",
    "n = 1\n",
    "# How do we get rho, but more important how do we get a controlled mixed state rho in a quantum circuit?\n",
    "# rho = generate_rho(kappa, n)\n",
    "# print(rho)\n",
    "qstate = generate_vector_state(kappa, n)\n",
    "qstate = Statevector(qstate)\n",
    "rho = qstate.to_operator().data\n",
    "\n",
    "\n",
    "K = math.ceil(1/kappa * math.log(1/(epsilon * kappa)))\n",
    "\n",
    "l_part = 0\n",
    "for k_i in range(1, K + 1):\n",
    "\tl_part += 1 / k_i\n",
    "l_part = (4 / epsilon) * l_part\n",
    "L = math.floor(math.log(l_part) * 1 / (kappa * kappa))\n",
    "M = []\n",
    "for l in range(L+1):\n",
    "\tMl = math.ceil(math.sqrt(math.log(l_part)*l/2))\n",
    "\tM.append(Ml)\n",
    "\n",
    "B = get_B(K, L)\n",
    "\n",
    "U = [min(l, math.ceil(l/2) + M[l]) for l in range(L + 1)]\n",
    "D = [max(0, math.floor(l/2) - M[l]) for l in range(L + 1)]\n",
    "\n",
    "def get_t(s, l):\n",
    "\treturn (2*s-l)*math.pi/2\n",
    "\n",
    "F_list = []\n",
    "for l in range(L+1):\n",
    "    for s in range(D[l], U[l]+1):\n",
    "        F_list.append(get_f(s,l))\n",
    "F = np.array(F_list)\n",
    "\n",
    "F_norm = np.linalg.norm(F, ord = 1)\n",
    "error = epsilon/F_norm\n",
    "\n",
    "N = sum(2*M[l] + 1 for l in range(L + 1))\n",
    "\n",
    "importance_sampler = ImportanceSampling(rho, D, U, F_norm)\n",
    "B_n_samples = round((F_norm/epsilon)**2*np.log(2/delta))\n",
    "\n",
    "print(f\"B_n_samples: {B_n_samples}\")\n",
    "\n",
    "B_samples = []\n",
    "for b in range(1,B_n_samples+1):\n",
    "\tsample = importance_sampler.generate_sample()\n",
    "\tB_samples.append(sample)\n",
    "\n",
    "# print(f\"epsilon: {epsilon}\")\n",
    "# print(f\"delta: {delta}\")\n",
    "# print(f\"deltat: {deltat}\")\n",
    "# print(f\"kappa: {kappa}\")\n",
    "# print(f\"n: {n}\")\n",
    "print(f\"rho:\\n{rho}\")\n",
    "print(f\"K: {K}\")\n",
    "# print(f\"l_part: {l_part}\")\n",
    "print(f\"L: {L}\")\n",
    "# print(f\"M: {M}\")\n",
    "# print(f\"B: {B}\")\n",
    "# print(f\"U: {U}\")\n",
    "# print(f\"D: {D}\")\n",
    "print(f\"F: {F}\")\n",
    "print(f\"F_norm: {F_norm}\")\n",
    "print(f\"error: {error}\")\n",
    "print(f\"N: {N}\")\n",
    "print(f\"B_n_samples: {B_n_samples}\")\n",
    "# print(f\"B_samples: {B_samples}\")"
   ],
   "id": "17615b2a4f4acb55",
   "outputs": [
    {
     "name": "stdout",
     "output_type": "stream",
     "text": [
      "B_n_samples: 183778024767779582000423747150787117056\n"
     ]
    },
    {
     "ename": "KeyboardInterrupt",
     "evalue": "",
     "output_type": "error",
     "traceback": [
      "\u001B[31m---------------------------------------------------------------------------\u001B[39m",
      "\u001B[31mKeyboardInterrupt\u001B[39m                         Traceback (most recent call last)",
      "\u001B[36mCell\u001B[39m\u001B[36m \u001B[39m\u001B[32mIn[63]\u001B[39m\u001B[32m, line 52\u001B[39m\n\u001B[32m     50\u001B[39m B_samples = []\n\u001B[32m     51\u001B[39m \u001B[38;5;28;01mfor\u001B[39;00m b \u001B[38;5;129;01min\u001B[39;00m \u001B[38;5;28mrange\u001B[39m(\u001B[32m1\u001B[39m,B_n_samples+\u001B[32m1\u001B[39m):\n\u001B[32m---> \u001B[39m\u001B[32m52\u001B[39m \tsample = importance_sampler.generate_sample()\n\u001B[32m     53\u001B[39m \tB_samples.append(sample)\n\u001B[32m     55\u001B[39m \u001B[38;5;66;03m# print(f\"epsilon: {epsilon}\")\u001B[39;00m\n\u001B[32m     56\u001B[39m \u001B[38;5;66;03m# print(f\"delta: {delta}\")\u001B[39;00m\n\u001B[32m     57\u001B[39m \u001B[38;5;66;03m# print(f\"deltat: {deltat}\")\u001B[39;00m\n\u001B[32m     58\u001B[39m \u001B[38;5;66;03m# print(f\"kappa: {kappa}\")\u001B[39;00m\n\u001B[32m     59\u001B[39m \u001B[38;5;66;03m# print(f\"n: {n}\")\u001B[39;00m\n",
      "\u001B[36mCell\u001B[39m\u001B[36m \u001B[39m\u001B[32mIn[57]\u001B[39m\u001B[32m, line 15\u001B[39m, in \u001B[36mImportanceSampling.generate_sample\u001B[39m\u001B[34m(self)\u001B[39m\n\u001B[32m     12\u001B[39m             \u001B[38;5;28mself\u001B[39m.cdf.append(cumulative)\n\u001B[32m     13\u001B[39m     \u001B[38;5;28mself\u001B[39m.cdf = [x / cumulative \u001B[38;5;28;01mfor\u001B[39;00m x \u001B[38;5;129;01min\u001B[39;00m \u001B[38;5;28mself\u001B[39m.cdf]\n\u001B[32m---> \u001B[39m\u001B[32m15\u001B[39m \u001B[38;5;28;01mdef\u001B[39;00m\u001B[38;5;250m \u001B[39m\u001B[34mgenerate_sample\u001B[39m(\u001B[38;5;28mself\u001B[39m):\n\u001B[32m     16\u001B[39m     rand_val = random.uniform(\u001B[32m0\u001B[39m, \u001B[32m1\u001B[39m)\n\u001B[32m     17\u001B[39m     \u001B[38;5;66;03m# Binary search for efficiency\u001B[39;00m\n",
      "\u001B[31mKeyboardInterrupt\u001B[39m: "
     ]
    }
   ],
   "execution_count": 63
  },
  {
   "metadata": {
    "ExecuteTime": {
     "end_time": "2025-09-13T13:52:26.630845300Z",
     "start_time": "2025-09-13T12:20:22.731283Z"
    }
   },
   "cell_type": "code",
   "source": [
    "sample = importance_sampler.generate_sample()\n",
    "R_values = [s[1] for s in importance_sampler.samples]\n",
    "\n",
    "plt.hist(R_values, bins=30, density=True)\n",
    "plt.xlabel(\"R value\")\n",
    "plt.ylabel(\"Probability Density\")\n",
    "plt.title(\"Importance Sampling Distribution\")\n",
    "plt.show()"
   ],
   "id": "f7b6a0f1e9a6f6b7",
   "outputs": [
    {
     "name": "stderr",
     "output_type": "stream",
     "text": [
      "C:\\Users\\adria\\miniconda3\\envs\\A-Practical-Guide-to-Quantum-Machine-Learning-and-Quantum-Optimization\\Lib\\site-packages\\matplotlib\\cbook.py:1719: ComplexWarning: Casting complex values to real discards the imaginary part\n",
      "  return math.isfinite(val)\n",
      "C:\\Users\\adria\\miniconda3\\envs\\A-Practical-Guide-to-Quantum-Machine-Learning-and-Quantum-Optimization\\Lib\\site-packages\\numpy\\lib\\_histograms_impl.py:853: ComplexWarning: Casting complex values to real discards the imaginary part\n",
      "  indices = f_indices.astype(np.intp)\n",
      "C:\\Users\\adria\\miniconda3\\envs\\A-Practical-Guide-to-Quantum-Machine-Learning-and-Quantum-Optimization\\Lib\\site-packages\\numpy\\lib\\_histograms_impl.py:896: ComplexWarning: Casting complex values to real discards the imaginary part\n",
      "  db = np.array(np.diff(bin_edges), float)\n",
      "C:\\Users\\adria\\miniconda3\\envs\\A-Practical-Guide-to-Quantum-Machine-Learning-and-Quantum-Optimization\\Lib\\site-packages\\matplotlib\\axes\\_axes.py:7135: ComplexWarning: Casting complex values to real discards the imaginary part\n",
      "  bins = np.array(bins, float)  # causes problems if float16\n"
     ]
    },
    {
     "data": {
      "text/plain": [
       "<Figure size 640x480 with 1 Axes>"
      ],
      "image/png": "[encoded data removed]"
     },
     "metadata": {},
     "output_type": "display_data"
    }
   ],
   "execution_count": 12
  },
  {
   "metadata": {
    "ExecuteTime": {
     "end_time": "2025-09-13T13:52:26.630845300Z",
     "start_time": "2025-09-13T12:20:23.069424Z"
    }
   },
   "cell_type": "code",
   "source": [
    "print(qstate)\n",
    "von_n_entropy = entropy(qstate)\n",
    "print(f\"Von Neumann Entropy of the state is {von_n_entropy}\")"
   ],
   "id": "868deec246466efb",
   "outputs": [
    {
     "name": "stdout",
     "output_type": "stream",
     "text": [
      "Statevector([0.76018645+0.j, 0.64970498+0.j],\n",
      "            dims=(2,))\n",
      "Von Neumann Entropy of the state is 0\n"
     ]
    }
   ],
   "execution_count": 13
  },
  {
   "metadata": {
    "ExecuteTime": {
     "end_time": "2025-09-13T13:52:26.641773700Z",
     "start_time": "2025-09-13T12:32:23.430001Z"
    }
   },
   "cell_type": "code",
   "source": [
    "sim = AerSimulator()\n",
    "\n",
    "j = 0\n",
    "total_sum = 0\n",
    "print(f\"Number of B_n_samples: {B_n_samples}\")\n",
    "print(\"=====================================\")\n",
    "\n",
    "for j in tqdm(range(B_n_samples), desc='Completed runs'):\n",
    "\tB_data = B_samples[j]\n",
    "\tQ = get_Q(s=B_data[2],l=B_data[3],error=error)\n",
    "\n",
    "\tqc = quantum_circuit(qstate, Q, deltat)\n",
    "\tqc_decomp = qc.decompose(reps=10)\n",
    "\t# print(f\"Quantum circuit decomposed. Circuit depth: {qc_decomp.depth()}\")\n",
    "\n",
    "\tstart = time.time()\n",
    "\tcompiled_qc = transpile(qc_decomp, sim, optimization_level=1)\n",
    "\ttotal = time.time() - start\n",
    "\n",
    "\t# print(f\"Compilation complete. Total time taken: {round(total,2)}s\")\n",
    "\n",
    "\tjob = sim.run(compiled_qc, shots=1024)\n",
    "\tcounts = job.result().get_counts()\n",
    "\test = counts.get(\"0\", 0) / 1024 - counts.get(\"1\", 0) / 1024\n",
    "\n",
    "\ttotal_sum += est\n",
    "\n",
    "print(\"=====================================\")\n",
    "von_neumann_entropy_est = F_norm*total_sum/B_n_samples\n",
    "print(f\"Estimated Von Neumann Entropy is {von_neumann_entropy_est}. Actual Von Neumann Entropy is {von_n_entropy}\" )\n"
   ],
   "id": "c43e03b843f14f7a",
   "outputs": [
    {
     "name": "stdout",
     "output_type": "stream",
     "text": [
      "Number of B_n_samples: 153\n",
      "=====================================\n"
     ]
    },
    {
     "name": "stderr",
     "output_type": "stream",
     "text": [
      "Completed runs:   8%|▊         | 12/153 [01:38<24:18, 10.35s/it]Exception ignored in: <generator object tqdm.__iter__ at 0x0000017E7DA80820>\n",
      "Traceback (most recent call last):\n",
      "  File \"C:\\Users\\adria\\miniconda3\\envs\\A-Practical-Guide-to-Quantum-Machine-Learning-and-Quantum-Optimization\\Lib\\site-packages\\tqdm\\std.py\", line 1196, in __iter__\n",
      "    self.close()\n",
      "  File \"C:\\Users\\adria\\miniconda3\\envs\\A-Practical-Guide-to-Quantum-Machine-Learning-and-Quantum-Optimization\\Lib\\site-packages\\tqdm\\std.py\", line 1290, in close\n",
      "    fp_write('')\n",
      "  File \"C:\\Users\\adria\\miniconda3\\envs\\A-Practical-Guide-to-Quantum-Machine-Learning-and-Quantum-Optimization\\Lib\\site-packages\\tqdm\\std.py\", line 1287, in fp_write\n",
      "    self.fp.write(str(s))\n",
      "  File \"C:\\Users\\adria\\miniconda3\\envs\\A-Practical-Guide-to-Quantum-Machine-Learning-and-Quantum-Optimization\\Lib\\site-packages\\tqdm\\utils.py\", line 196, in inner\n",
      "    return func(*args, **kwargs)\n",
      "           ^^^^^^^^^^^^^^^^^^^^^\n",
      "  File \"C:\\Users\\adria\\miniconda3\\envs\\A-Practical-Guide-to-Quantum-Machine-Learning-and-Quantum-Optimization\\Lib\\site-packages\\IPython\\core\\interactiveshell.py\", line 3027, in write\n",
      "    result = original_write(data, *args, **kwargs)\n",
      "             ^^^^^^^^^^^^^^^^^^^^^^^^^^^^^^^^^^^^^\n",
      "  File \"C:\\Users\\adria\\miniconda3\\envs\\A-Practical-Guide-to-Quantum-Machine-Learning-and-Quantum-Optimization\\Lib\\site-packages\\ipykernel\\iostream.py\", line 684, in write\n",
      "    self._buffers[frozenset(parent.items())].write(string)\n",
      "KeyboardInterrupt: \n"
     ]
    },
    {
     "ename": "KeyboardInterrupt",
     "evalue": "",
     "output_type": "error",
     "traceback": [
      "\u001B[31m---------------------------------------------------------------------------\u001B[39m",
      "\u001B[31mKeyboardInterrupt\u001B[39m                         Traceback (most recent call last)",
      "\u001B[36mCell\u001B[39m\u001B[36m \u001B[39m\u001B[32mIn[15]\u001B[39m\u001B[32m, line 17\u001B[39m\n\u001B[32m     14\u001B[39m \u001B[38;5;66;03m# print(f\"Quantum circuit decomposed. Circuit depth: {qc_decomp.depth()}\")\u001B[39;00m\n\u001B[32m     16\u001B[39m start = time.time()\n\u001B[32m---> \u001B[39m\u001B[32m17\u001B[39m compiled_qc = transpile(qc_decomp, sim, optimization_level=\u001B[32m1\u001B[39m)\n\u001B[32m     18\u001B[39m total = time.time() - start\n\u001B[32m     20\u001B[39m \u001B[38;5;66;03m# print(f\"Compilation complete. Total time taken: {round(total,2)}s\")\u001B[39;00m\n",
      "\u001B[36mFile \u001B[39m\u001B[32m~\\miniconda3\\envs\\A-Practical-Guide-to-Quantum-Machine-Learning-and-Quantum-Optimization\\Lib\\site-packages\\qiskit\\compiler\\transpiler.py:391\u001B[39m, in \u001B[36mtranspile\u001B[39m\u001B[34m(circuits, backend, basis_gates, inst_map, coupling_map, backend_properties, initial_layout, layout_method, routing_method, translation_method, scheduling_method, instruction_durations, dt, approximation_degree, timing_constraints, seed_transpiler, optimization_level, callback, output_name, unitary_synthesis_method, unitary_synthesis_plugin_config, target, hls_config, init_method, optimization_method, ignore_backend_supplied_default_methods, num_processes)\u001B[39m\n\u001B[32m    363\u001B[39m \u001B[38;5;66;03m# Edge cases require using the old model (loose constraints) instead of building a target,\u001B[39;00m\n\u001B[32m    364\u001B[39m \u001B[38;5;66;03m# but we don't populate the passmanager config with loose constraints unless it's one of\u001B[39;00m\n\u001B[32m    365\u001B[39m \u001B[38;5;66;03m# the known edge cases to control the execution path.\u001B[39;00m\n\u001B[32m    366\u001B[39m pm = generate_preset_pass_manager(\n\u001B[32m    367\u001B[39m     optimization_level,\n\u001B[32m    368\u001B[39m     target=target,\n\u001B[32m   (...)\u001B[39m\u001B[32m    388\u001B[39m     dt=dt,\n\u001B[32m    389\u001B[39m )\n\u001B[32m--> \u001B[39m\u001B[32m391\u001B[39m out_circuits = pm.run(circuits, callback=callback, num_processes=num_processes)\n\u001B[32m    393\u001B[39m \u001B[38;5;28;01mfor\u001B[39;00m name, circ \u001B[38;5;129;01min\u001B[39;00m \u001B[38;5;28mzip\u001B[39m(output_name, out_circuits):\n\u001B[32m    394\u001B[39m     circ.name = name\n",
      "\u001B[36mFile \u001B[39m\u001B[32m~\\miniconda3\\envs\\A-Practical-Guide-to-Quantum-Machine-Learning-and-Quantum-Optimization\\Lib\\site-packages\\qiskit\\transpiler\\passmanager.py:441\u001B[39m, in \u001B[36mStagedPassManager.run\u001B[39m\u001B[34m(self, circuits, output_name, callback, num_processes)\u001B[39m\n\u001B[32m    433\u001B[39m \u001B[38;5;28;01mdef\u001B[39;00m\u001B[38;5;250m \u001B[39m\u001B[34mrun\u001B[39m(\n\u001B[32m    434\u001B[39m     \u001B[38;5;28mself\u001B[39m,\n\u001B[32m    435\u001B[39m     circuits: _CircuitsT,\n\u001B[32m   (...)\u001B[39m\u001B[32m    438\u001B[39m     num_processes: \u001B[38;5;28mint\u001B[39m = \u001B[38;5;28;01mNone\u001B[39;00m,\n\u001B[32m    439\u001B[39m ) -> _CircuitsT:\n\u001B[32m    440\u001B[39m     \u001B[38;5;28mself\u001B[39m._update_passmanager()\n\u001B[32m--> \u001B[39m\u001B[32m441\u001B[39m     \u001B[38;5;28;01mreturn\u001B[39;00m \u001B[38;5;28msuper\u001B[39m().run(circuits, output_name, callback, num_processes=num_processes)\n",
      "\u001B[36mFile \u001B[39m\u001B[32m~\\miniconda3\\envs\\A-Practical-Guide-to-Quantum-Machine-Learning-and-Quantum-Optimization\\Lib\\site-packages\\qiskit\\transpiler\\passmanager.py:464\u001B[39m, in \u001B[36m_replace_error.<locals>.wrapper\u001B[39m\u001B[34m(*meth_args, **meth_kwargs)\u001B[39m\n\u001B[32m    461\u001B[39m \u001B[38;5;129m@wraps\u001B[39m(meth)\n\u001B[32m    462\u001B[39m \u001B[38;5;28;01mdef\u001B[39;00m\u001B[38;5;250m \u001B[39m\u001B[34mwrapper\u001B[39m(*meth_args, **meth_kwargs):\n\u001B[32m    463\u001B[39m     \u001B[38;5;28;01mtry\u001B[39;00m:\n\u001B[32m--> \u001B[39m\u001B[32m464\u001B[39m         \u001B[38;5;28;01mreturn\u001B[39;00m meth(*meth_args, **meth_kwargs)\n\u001B[32m    465\u001B[39m     \u001B[38;5;28;01mexcept\u001B[39;00m PassManagerError \u001B[38;5;28;01mas\u001B[39;00m ex:\n\u001B[32m    466\u001B[39m         \u001B[38;5;28;01mraise\u001B[39;00m TranspilerError(ex.message) \u001B[38;5;28;01mfrom\u001B[39;00m\u001B[38;5;250m \u001B[39m\u001B[34;01mex\u001B[39;00m\n",
      "\u001B[36mFile \u001B[39m\u001B[32m~\\miniconda3\\envs\\A-Practical-Guide-to-Quantum-Machine-Learning-and-Quantum-Optimization\\Lib\\site-packages\\qiskit\\transpiler\\passmanager.py:226\u001B[39m, in \u001B[36mPassManager.run\u001B[39m\u001B[34m(self, circuits, output_name, callback, num_processes)\u001B[39m\n\u001B[32m    223\u001B[39m \u001B[38;5;28;01mif\u001B[39;00m callback \u001B[38;5;129;01mis\u001B[39;00m \u001B[38;5;129;01mnot\u001B[39;00m \u001B[38;5;28;01mNone\u001B[39;00m:\n\u001B[32m    224\u001B[39m     callback = _legacy_style_callback(callback)\n\u001B[32m--> \u001B[39m\u001B[32m226\u001B[39m \u001B[38;5;28;01mreturn\u001B[39;00m \u001B[38;5;28msuper\u001B[39m().run(\n\u001B[32m    227\u001B[39m     in_programs=circuits,\n\u001B[32m    228\u001B[39m     callback=callback,\n\u001B[32m    229\u001B[39m     output_name=output_name,\n\u001B[32m    230\u001B[39m     num_processes=num_processes,\n\u001B[32m    231\u001B[39m )\n",
      "\u001B[36mFile \u001B[39m\u001B[32m~\\miniconda3\\envs\\A-Practical-Guide-to-Quantum-Machine-Learning-and-Quantum-Optimization\\Lib\\site-packages\\qiskit\\passmanager\\passmanager.py:232\u001B[39m, in \u001B[36mBasePassManager.run\u001B[39m\u001B[34m(self, in_programs, callback, num_processes, **kwargs)\u001B[39m\n\u001B[32m    228\u001B[39m \u001B[38;5;66;03m# If we're not going to run in parallel, we want to avoid spending time `dill` serializing\u001B[39;00m\n\u001B[32m    229\u001B[39m \u001B[38;5;66;03m# ourselves, since that can be quite expensive.\u001B[39;00m\n\u001B[32m    230\u001B[39m \u001B[38;5;28;01mif\u001B[39;00m \u001B[38;5;28mlen\u001B[39m(in_programs) == \u001B[32m1\u001B[39m \u001B[38;5;129;01mor\u001B[39;00m \u001B[38;5;129;01mnot\u001B[39;00m should_run_in_parallel(num_processes):\n\u001B[32m    231\u001B[39m     out = [\n\u001B[32m--> \u001B[39m\u001B[32m232\u001B[39m         _run_workflow(program=program, pass_manager=\u001B[38;5;28mself\u001B[39m, callback=callback, **kwargs)\n\u001B[32m    233\u001B[39m         \u001B[38;5;28;01mfor\u001B[39;00m program \u001B[38;5;129;01min\u001B[39;00m in_programs\n\u001B[32m    234\u001B[39m     ]\n\u001B[32m    235\u001B[39m     \u001B[38;5;28;01mif\u001B[39;00m \u001B[38;5;28mlen\u001B[39m(in_programs) == \u001B[32m1\u001B[39m \u001B[38;5;129;01mand\u001B[39;00m \u001B[38;5;129;01mnot\u001B[39;00m is_list:\n\u001B[32m    236\u001B[39m         \u001B[38;5;28;01mreturn\u001B[39;00m out[\u001B[32m0\u001B[39m]\n",
      "\u001B[36mFile \u001B[39m\u001B[32m~\\miniconda3\\envs\\A-Practical-Guide-to-Quantum-Machine-Learning-and-Quantum-Optimization\\Lib\\site-packages\\qiskit\\passmanager\\passmanager.py:292\u001B[39m, in \u001B[36m_run_workflow\u001B[39m\u001B[34m(program, pass_manager, **kwargs)\u001B[39m\n\u001B[32m    286\u001B[39m initial_status = WorkflowStatus()\n\u001B[32m    288\u001B[39m passmanager_ir = pass_manager._passmanager_frontend(\n\u001B[32m    289\u001B[39m     input_program=program,\n\u001B[32m    290\u001B[39m     **kwargs,\n\u001B[32m    291\u001B[39m )\n\u001B[32m--> \u001B[39m\u001B[32m292\u001B[39m passmanager_ir, final_state = flow_controller.execute(\n\u001B[32m    293\u001B[39m     passmanager_ir=passmanager_ir,\n\u001B[32m    294\u001B[39m     state=PassManagerState(\n\u001B[32m    295\u001B[39m         workflow_status=initial_status,\n\u001B[32m    296\u001B[39m         property_set=PropertySet(),\n\u001B[32m    297\u001B[39m     ),\n\u001B[32m    298\u001B[39m     callback=kwargs.get(\u001B[33m\"\u001B[39m\u001B[33mcallback\u001B[39m\u001B[33m\"\u001B[39m, \u001B[38;5;28;01mNone\u001B[39;00m),\n\u001B[32m    299\u001B[39m )\n\u001B[32m    300\u001B[39m \u001B[38;5;66;03m# The `property_set` has historically been returned as a mutable attribute on `PassManager`\u001B[39;00m\n\u001B[32m    301\u001B[39m \u001B[38;5;66;03m# This makes us non-reentrant (though `PassManager` would be dependent on its internal tasks to\u001B[39;00m\n\u001B[32m    302\u001B[39m \u001B[38;5;66;03m# be re-entrant if that was required), but is consistent with previous interfaces.  We're still\u001B[39;00m\n\u001B[32m    303\u001B[39m \u001B[38;5;66;03m# safe to be called in a serial loop, again assuming internal tasks are re-runnable.  The\u001B[39;00m\n\u001B[32m    304\u001B[39m \u001B[38;5;66;03m# conversion to the backend language is also allowed to use the property set, so it must be set\u001B[39;00m\n\u001B[32m    305\u001B[39m \u001B[38;5;66;03m# before calling it.\u001B[39;00m\n\u001B[32m    306\u001B[39m pass_manager.property_set = final_state.property_set\n",
      "\u001B[36mFile \u001B[39m\u001B[32m~\\miniconda3\\envs\\A-Practical-Guide-to-Quantum-Machine-Learning-and-Quantum-Optimization\\Lib\\site-packages\\qiskit\\passmanager\\base_tasks.py:218\u001B[39m, in \u001B[36mBaseController.execute\u001B[39m\u001B[34m(self, passmanager_ir, state, callback)\u001B[39m\n\u001B[32m    216\u001B[39m     \u001B[38;5;28;01mreturn\u001B[39;00m passmanager_ir, state\n\u001B[32m    217\u001B[39m \u001B[38;5;28;01mwhile\u001B[39;00m \u001B[38;5;28;01mTrue\u001B[39;00m:\n\u001B[32m--> \u001B[39m\u001B[32m218\u001B[39m     passmanager_ir, state = next_task.execute(\n\u001B[32m    219\u001B[39m         passmanager_ir=passmanager_ir,\n\u001B[32m    220\u001B[39m         state=state,\n\u001B[32m    221\u001B[39m         callback=callback,\n\u001B[32m    222\u001B[39m     )\n\u001B[32m    223\u001B[39m     \u001B[38;5;28;01mtry\u001B[39;00m:\n\u001B[32m    224\u001B[39m         \u001B[38;5;66;03m# Sending the object through the generator implies the custom controllers\u001B[39;00m\n\u001B[32m    225\u001B[39m         \u001B[38;5;66;03m# can always rely on the latest data to choose the next task to run.\u001B[39;00m\n\u001B[32m    226\u001B[39m         next_task = task_generator.send(state)\n",
      "\u001B[36mFile \u001B[39m\u001B[32m~\\miniconda3\\envs\\A-Practical-Guide-to-Quantum-Machine-Learning-and-Quantum-Optimization\\Lib\\site-packages\\qiskit\\passmanager\\base_tasks.py:218\u001B[39m, in \u001B[36mBaseController.execute\u001B[39m\u001B[34m(self, passmanager_ir, state, callback)\u001B[39m\n\u001B[32m    216\u001B[39m     \u001B[38;5;28;01mreturn\u001B[39;00m passmanager_ir, state\n\u001B[32m    217\u001B[39m \u001B[38;5;28;01mwhile\u001B[39;00m \u001B[38;5;28;01mTrue\u001B[39;00m:\n\u001B[32m--> \u001B[39m\u001B[32m218\u001B[39m     passmanager_ir, state = next_task.execute(\n\u001B[32m    219\u001B[39m         passmanager_ir=passmanager_ir,\n\u001B[32m    220\u001B[39m         state=state,\n\u001B[32m    221\u001B[39m         callback=callback,\n\u001B[32m    222\u001B[39m     )\n\u001B[32m    223\u001B[39m     \u001B[38;5;28;01mtry\u001B[39;00m:\n\u001B[32m    224\u001B[39m         \u001B[38;5;66;03m# Sending the object through the generator implies the custom controllers\u001B[39;00m\n\u001B[32m    225\u001B[39m         \u001B[38;5;66;03m# can always rely on the latest data to choose the next task to run.\u001B[39;00m\n\u001B[32m    226\u001B[39m         next_task = task_generator.send(state)\n",
      "\u001B[36mFile \u001B[39m\u001B[32m~\\miniconda3\\envs\\A-Practical-Guide-to-Quantum-Machine-Learning-and-Quantum-Optimization\\Lib\\site-packages\\qiskit\\transpiler\\basepasses.py:195\u001B[39m, in \u001B[36mTransformationPass.execute\u001B[39m\u001B[34m(self, passmanager_ir, state, callback)\u001B[39m\n\u001B[32m    189\u001B[39m \u001B[38;5;28;01mdef\u001B[39;00m\u001B[38;5;250m \u001B[39m\u001B[34mexecute\u001B[39m(\n\u001B[32m    190\u001B[39m     \u001B[38;5;28mself\u001B[39m,\n\u001B[32m    191\u001B[39m     passmanager_ir: PassManagerIR,\n\u001B[32m    192\u001B[39m     state: PassManagerState,\n\u001B[32m    193\u001B[39m     callback: Callable = \u001B[38;5;28;01mNone\u001B[39;00m,\n\u001B[32m    194\u001B[39m ) -> \u001B[38;5;28mtuple\u001B[39m[PassManagerIR, PassManagerState]:\n\u001B[32m--> \u001B[39m\u001B[32m195\u001B[39m     new_dag, state = \u001B[38;5;28msuper\u001B[39m().execute(\n\u001B[32m    196\u001B[39m         passmanager_ir=passmanager_ir,\n\u001B[32m    197\u001B[39m         state=state,\n\u001B[32m    198\u001B[39m         callback=callback,\n\u001B[32m    199\u001B[39m     )\n\u001B[32m    201\u001B[39m     \u001B[38;5;28;01mif\u001B[39;00m state.workflow_status.previous_run == RunState.SUCCESS:\n\u001B[32m    202\u001B[39m         \u001B[38;5;28;01mif\u001B[39;00m \u001B[38;5;28misinstance\u001B[39m(new_dag, DAGCircuit):\n\u001B[32m    203\u001B[39m             \u001B[38;5;66;03m# Copy calibration data from the original program\u001B[39;00m\n",
      "\u001B[36mFile \u001B[39m\u001B[32m~\\miniconda3\\envs\\A-Practical-Guide-to-Quantum-Machine-Learning-and-Quantum-Optimization\\Lib\\site-packages\\qiskit\\passmanager\\base_tasks.py:98\u001B[39m, in \u001B[36mGenericPass.execute\u001B[39m\u001B[34m(self, passmanager_ir, state, callback)\u001B[39m\n\u001B[32m     96\u001B[39m \u001B[38;5;28;01mtry\u001B[39;00m:\n\u001B[32m     97\u001B[39m     \u001B[38;5;28;01mif\u001B[39;00m \u001B[38;5;28mself\u001B[39m \u001B[38;5;129;01mnot\u001B[39;00m \u001B[38;5;129;01min\u001B[39;00m state.workflow_status.completed_passes:\n\u001B[32m---> \u001B[39m\u001B[32m98\u001B[39m         ret = \u001B[38;5;28mself\u001B[39m.run(passmanager_ir)\n\u001B[32m     99\u001B[39m         run_state = RunState.SUCCESS\n\u001B[32m    100\u001B[39m     \u001B[38;5;28;01melse\u001B[39;00m:\n",
      "\u001B[36mFile \u001B[39m\u001B[32m~\\miniconda3\\envs\\A-Practical-Guide-to-Quantum-Machine-Learning-and-Quantum-Optimization\\Lib\\site-packages\\qiskit\\transpiler\\passes\\utils\\control_flow.py:59\u001B[39m, in \u001B[36mtrivial_recurse.<locals>.out\u001B[39m\u001B[34m(self, dag)\u001B[39m\n\u001B[32m     57\u001B[39m \u001B[38;5;28;01mfor\u001B[39;00m node \u001B[38;5;129;01min\u001B[39;00m dag.op_nodes(ControlFlowOp):\n\u001B[32m     58\u001B[39m     node.op = map_blocks(bound_wrapped_method, node.op)\n\u001B[32m---> \u001B[39m\u001B[32m59\u001B[39m \u001B[38;5;28;01mreturn\u001B[39;00m method(\u001B[38;5;28mself\u001B[39m, dag)\n",
      "\u001B[36mFile \u001B[39m\u001B[32m~\\miniconda3\\envs\\A-Practical-Guide-to-Quantum-Machine-Learning-and-Quantum-Optimization\\Lib\\site-packages\\qiskit\\transpiler\\passes\\optimization\\optimize_1q_decomposition.py:219\u001B[39m, in \u001B[36mOptimize1qGatesDecomposition.run\u001B[39m\u001B[34m(self, dag)\u001B[39m\n\u001B[32m    217\u001B[39m     runs.append(run)\n\u001B[32m    218\u001B[39m     qubits.append(qubit)\n\u001B[32m--> \u001B[39m\u001B[32m219\u001B[39m     bases.append(\u001B[38;5;28mself\u001B[39m._get_decomposer(qubit))\n\u001B[32m    220\u001B[39m best_sequences = euler_one_qubit_decomposer.optimize_1q_gates_decomposition(\n\u001B[32m    221\u001B[39m     runs, qubits, bases, simplify=\u001B[38;5;28;01mTrue\u001B[39;00m, error_map=\u001B[38;5;28mself\u001B[39m.error_map\n\u001B[32m    222\u001B[39m )\n\u001B[32m    223\u001B[39m \u001B[38;5;28;01mfor\u001B[39;00m index, best_circuit_sequence \u001B[38;5;129;01min\u001B[39;00m \u001B[38;5;28menumerate\u001B[39m(best_sequences):\n",
      "\u001B[36mFile \u001B[39m\u001B[32m~\\miniconda3\\envs\\A-Practical-Guide-to-Quantum-Machine-Learning-and-Quantum-Optimization\\Lib\\site-packages\\qiskit\\transpiler\\passes\\optimization\\optimize_1q_decomposition.py:125\u001B[39m, in \u001B[36mOptimize1qGatesDecomposition._get_decomposer\u001B[39m\u001B[34m(self, qubit)\u001B[39m\n\u001B[32m    123\u001B[39m     \u001B[38;5;28;01melse\u001B[39;00m:\n\u001B[32m    124\u001B[39m         available_1q_basis = \u001B[38;5;28mset\u001B[39m(\u001B[38;5;28mself\u001B[39m._target.operation_names_for_qargs(qubits_tuple))\n\u001B[32m--> \u001B[39m\u001B[32m125\u001B[39m         decomposers = _possible_decomposers(available_1q_basis)\n\u001B[32m    126\u001B[39m \u001B[38;5;28;01melse\u001B[39;00m:\n\u001B[32m    127\u001B[39m     decomposers = \u001B[38;5;28mself\u001B[39m._global_decomposers\n",
      "\u001B[36mFile \u001B[39m\u001B[32m~\\miniconda3\\envs\\A-Practical-Guide-to-Quantum-Machine-Learning-and-Quantum-Optimization\\Lib\\site-packages\\qiskit\\transpiler\\passes\\optimization\\optimize_1q_decomposition.py:280\u001B[39m, in \u001B[36m_possible_decomposers\u001B[39m\u001B[34m(basis_set)\u001B[39m\n\u001B[32m    278\u001B[39m euler_basis_gates = one_qubit_decompose.ONE_QUBIT_EULER_BASIS_GATES\n\u001B[32m    279\u001B[39m \u001B[38;5;28;01mfor\u001B[39;00m euler_basis_name, gates \u001B[38;5;129;01min\u001B[39;00m euler_basis_gates.items():\n\u001B[32m--> \u001B[39m\u001B[32m280\u001B[39m     \u001B[38;5;28;01mif\u001B[39;00m \u001B[38;5;28mset\u001B[39m(gates).issubset(basis_set):\n\u001B[32m    281\u001B[39m         decomposers.append(euler_basis_name)\n\u001B[32m    282\u001B[39m \u001B[38;5;66;03m# If both U3 and U321 are in decomposer list only run U321 because\u001B[39;00m\n\u001B[32m    283\u001B[39m \u001B[38;5;66;03m# in worst case it will produce the same U3 output, but in the general\u001B[39;00m\n\u001B[32m    284\u001B[39m \u001B[38;5;66;03m# case it will use U2 and U1 which will be more efficient.\u001B[39;00m\n",
      "\u001B[31mKeyboardInterrupt\u001B[39m: "
     ]
    }
   ],
   "execution_count": 15
  }
 ],
 "metadata": {
  "kernelspec": {
   "display_name": "Python 3",
   "language": "python",
   "name": "python3"
  },
  "language_info": {
   "codemirror_mode": {
    "name": "ipython",
    "version": 2
   },
   "file_extension": ".py",
   "mimetype": "text/x-python",
   "name": "python",
   "nbconvert_exporter": "python",
   "pygments_lexer": "ipython2",
   "version": "2.7.6"
  }
 },
 "nbformat": 4,
 "nbformat_minor": 5
}
