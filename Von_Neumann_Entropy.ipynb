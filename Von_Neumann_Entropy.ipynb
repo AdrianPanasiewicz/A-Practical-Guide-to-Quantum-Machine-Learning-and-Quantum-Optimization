{
 "cells": [
  {
   "metadata": {
    "ExecuteTime": {
     "end_time": "2025-09-03T20:05:06.089511Z",
     "start_time": "2025-09-03T20:05:05.061072Z"
    }
   },
   "cell_type": "code",
   "source": [
    "import math\n",
    "import random\n",
    "import time\n",
    "from tqdm import tqdm\n",
    "\n",
    "import numpy as np\n",
    "from matplotlib import pyplot as plt\n",
    "from qiskit import QuantumCircuit, QuantumRegister, ClassicalRegister, transpile\n",
    "from qiskit.circuit.library import Initialize\n",
    "from qiskit.quantum_info import Statevector, entropy, DensityMatrix\n",
    "from qiskit_aer import AerSimulator"
   ],
   "id": "de79977987e91668",
   "outputs": [],
   "execution_count": 1
  },
  {
   "metadata": {},
   "cell_type": "markdown",
   "source": [
    "# Input:\n",
    " Constants epsilon, δ, Λ ∈ (0, 1), and copies of state ρ ∈ C2n×2n ."
   ],
   "id": "32c9b12b1c892088"
  },
  {
   "metadata": {
    "ExecuteTime": {
     "end_time": "2025-09-03T20:05:06.260809Z",
     "start_time": "2025-09-03T20:05:06.256285Z"
    }
   },
   "cell_type": "code",
   "source": [
    "def generate_vector_state(ev_delta, n):\n",
    "    if ev_delta < 0 or ev_delta > 1 / (2**n)**0.5:\n",
    "        raise ValueError(\"ev_delta too large for normalization\")\n",
    "    dim = 2**n\n",
    "    EV = [random.uniform(ev_delta, 1) for _ in range(dim)]\n",
    "    norm = math.sqrt(sum(x**2 for x in EV))\n",
    "    EV = [x/norm for x in EV]\n",
    "    return EV"
   ],
   "id": "c0dec50561704a3a",
   "outputs": [],
   "execution_count": 2
  },
  {
   "cell_type": "code",
   "id": "initial_id",
   "metadata": {
    "collapsed": true,
    "ExecuteTime": {
     "end_time": "2025-09-03T20:05:06.286166Z",
     "start_time": "2025-09-03T20:05:06.281292Z"
    }
   },
   "source": [
    "# This is problematic because initializing a mixed density matrix is not trivial. Maybe I will implement it later.\n",
    "def generate_rho(ev_delta, n):\n",
    "\tif ev_delta > 1:\n",
    "\t\traise ValueError(\"ev_delta must be less than or equal to 1\")\n",
    "\tdim = pow(2,n)\n",
    "\tEV = []\n",
    "\tfor i in range(dim):\n",
    "\t\tif sum(EV) <= 1 - ev_delta:\n",
    "\t\t\tphi_ev = random.uniform(ev_delta, 1-sum(EV))\n",
    "\t\t\tif 1-sum(EV)-phi_ev-ev_delta < 0 or i==dim-1:\n",
    "\t\t\t\tphi_ev = 1.0-sum(EV)\n",
    "\t\t\tEV.append(phi_ev)\n",
    "\t\telse:\n",
    "\t\t\tEV.append(0.0)\n",
    "\tEV = EV\n",
    "\trho = np.diag(EV)\n",
    "\n",
    "\tZ = np.random.randn(dim, dim) + 1j*np.random.randn(dim, dim)\n",
    "\tR, _ = np.linalg.qr(Z)\n",
    "\n",
    "\trho = R @ rho @ R.conj().T\n",
    "\treturn rho"
   ],
   "outputs": [],
   "execution_count": 3
  },
  {
   "metadata": {},
   "cell_type": "markdown",
   "source": [
    "# Helpful functions\n",
    "Compute coefficients L, K, Ml, and b(k)  l as given in Lemma 1."
   ],
   "id": "56294e91e0f01fe9"
  },
  {
   "metadata": {
    "ExecuteTime": {
     "end_time": "2025-09-03T20:05:06.354536Z",
     "start_time": "2025-09-03T20:05:06.349059Z"
    }
   },
   "cell_type": "code",
   "source": [
    "# Calculating blk\n",
    "def get_B(K, L):\n",
    "\tbkl_matrix = []\n",
    "\tfor k in range(1, K + 1):\n",
    "\t\tbl_array = []\n",
    "\t\tfor l in range(math.floor(L)+1):\n",
    "\t\t\tif k == 1:\n",
    "\t\t\t\tif l%2 == 0:\n",
    "\t\t\t\t\tblk = 0.0\n",
    "\t\t\t\telse:\n",
    "\t\t\t\t\tblk = 2 * math.comb(l-1,int((l-1)/2))/(math.pi*math.pow(2,l-1)*l)\n",
    "\t\t\t\tbl_array.append(blk)\n",
    "\t\t\telse:\n",
    "\t\t\t\tblk = 0.0\n",
    "\t\t\t\tfor l_prime in range(l+1):\n",
    "\t\t\t\t\tblk += bkl_matrix[k-2][l_prime]*bkl_matrix[0][l-l_prime]\n",
    "\t\t\t\tbl_array.append(blk)\n",
    "\n",
    "\t\tbkl_matrix.append(bl_array)\n",
    "\n",
    "\treturn bkl_matrix\n",
    "\n",
    "def get_t(s, l):\n",
    "\treturn (2*s-l)*math.pi/2\n",
    "\n",
    "def get_f(s,l):\n",
    "\tk_sum= 0\n",
    "\tfor k in range(1,K+1):\n",
    "\t\tk_sum += B[k-1][l]/k\n",
    "\treturn k_sum*math.comb(l,s)/math.pow(2,l)\n",
    "\n",
    "def get_Q(s,l,error):\n",
    "\tQ = math.ceil((2*s-l)**2*math.pi**2/(4*error))\n",
    "\treturn Q\n"
   ],
   "id": "b70c8929452551dd",
   "outputs": [],
   "execution_count": 5
  },
  {
   "metadata": {},
   "cell_type": "markdown",
   "source": [
    "## Step 5\n",
    "Define a distribution as in Eq. (32)."
   ],
   "id": "4fb61c43aa6ec276"
  },
  {
   "metadata": {
    "ExecuteTime": {
     "end_time": "2025-09-03T20:05:06.386824Z",
     "start_time": "2025-09-03T20:05:06.381374Z"
    }
   },
   "cell_type": "code",
   "source": [
    "class ImportanceSampling:\n",
    "\tdef __init__(self, rho, D, U, F_norm):\n",
    "\t\tself.samples = []\n",
    "\t\tcurrent_max = 0\n",
    "\t\tfor l in range(math.floor(L)+1):\n",
    "\t\t\tfor s in range(D[l],U[l]+1):\n",
    "\t\t\t\tR = np.trace(rho*np.cos(rho*(2*s-l)*math.pi/2))\n",
    "\t\t\t\tprob_density = get_f(s,l)/F_norm\n",
    "\t\t\t\tcurrent_max += prob_density\n",
    "\t\t\t\tdata = [current_max, R, s, l]\n",
    "\t\t\t\tself.samples.append(data)\n",
    "\n",
    "\tdef generate_sample(self):\n",
    "\t\trand_val = random.uniform(0,1)\n",
    "\t\tfor i in range(len(self.samples)):\n",
    "\t\t\tif rand_val <= self.samples[i][0]:\n",
    "\t\t\t\treturn self.samples[i]"
   ],
   "id": "ab61cd908c0b9bc7",
   "outputs": [],
   "execution_count": 6
  },
  {
   "metadata": {},
   "cell_type": "markdown",
   "source": [
    "## Quantum subcircuits\n",
    "### 1. Select subcircuit"
   ],
   "id": "80b925415ab09a7"
  },
  {
   "metadata": {
    "ExecuteTime": {
     "end_time": "2025-09-03T20:05:06.445074Z",
     "start_time": "2025-09-03T20:05:06.440681Z"
    }
   },
   "cell_type": "code",
   "source": [
    "def select_subcircuit(qc_s, qc_m, rho_pair1, rho_pair2, deltat):\n",
    "\tsub = QuantumCircuit(qc_m, qc_s, rho_pair1, rho_pair2, name=\"swap_block\")\n",
    "\tsub.ccx(qc_m,qc_s[0],qc_s[1])\n",
    "\n",
    "\t# sub.barrier(rho_pair1, rho_pair2, label=\"Swap\")\n",
    "\n",
    "\tfor i in range(rho_pair1.size):\n",
    "\t\tsub.cx(rho_pair2[i], rho_pair1[i])\n",
    "\t\tsub.ccx(qc_s[1],rho_pair1[i],rho_pair2[i])\n",
    "\t\tsub.cx(rho_pair2[i], rho_pair1[i])\n",
    "\n",
    "\t# sub.barrier(rho_pair1, rho_pair2, label=\"Swap\")\n",
    "\n",
    "\tsub.ccx(qc_m,qc_s[0],qc_s[1])\n",
    "\tsub.cs(qc_m,qc_s[0])\n",
    "\tif deltat > 0:\n",
    "\t\tsub.cz(qc_m,qc_s[0])\n",
    "\n",
    "\treturn sub\n",
    "\n",
    "def select_swap(mother_circ, qc_s, qc_m, rho_pair1, rho_pair2, deltat, inverse = False):\n",
    "\tswap_block = select_subcircuit(qc_s, qc_m, rho_pair1, rho_pair2, deltat)\n",
    "\tmother_circ.append(swap_block, mother_circ.qubits) if not inverse else mother_circ.append(swap_block.inverse(), mother_circ.qubits)"
   ],
   "id": "363b3d3f51058948",
   "outputs": [],
   "execution_count": 8
  },
  {
   "metadata": {},
   "cell_type": "markdown",
   "source": "### 2. Initialize controlled statevector",
   "id": "2a42f5a4237d61e2"
  },
  {
   "metadata": {
    "ExecuteTime": {
     "end_time": "2025-09-03T20:05:06.469793Z",
     "start_time": "2025-09-03T20:05:06.464805Z"
    }
   },
   "cell_type": "code",
   "source": [
    "def controlled_statevector_subcircuit(control_qbit, target_qbit, statevector, control_state, label=\"\"):\n",
    "\tsub = QuantumCircuit(2, name=f\"Controlled_{label}\")\n",
    "\tinit_gate = Initialize(statevector)\n",
    "\tgate = init_gate.gates_to_uncompute().to_gate()\n",
    "\tgate.label = label\n",
    "\tc_gate = gate.control()\n",
    "\tif control_state == 1:\n",
    "\t\tsub.append(c_gate, [0, 1])\n",
    "\telif control_state == 0:\n",
    "\t\tsub.x(0)\n",
    "\t\tsub.append(c_gate, [0, 1])\n",
    "\t\tsub.x(0)\n",
    "\telse:\n",
    "\t\traise ValueError(\"control_state must be 0 or 1\")\n",
    "\treturn sub\n",
    "\n",
    "def apply_controlled_statevector(mother_circ, control_qbit, target_qbit, statevector, control_state, label=\"\", inverse = False):\n",
    "\tstatevector_block = controlled_statevector_subcircuit(control_qbit, target_qbit, statevector, control_state, label)\n",
    "\tmother_circ.append(statevector_block, [control_qbit,target_qbit]) if not inverse else mother_circ.append(statevector_block.inverse(), [control_qbit,target_qbit])"
   ],
   "id": "20f743f29d9a5785",
   "outputs": [],
   "execution_count": 9
  },
  {
   "metadata": {},
   "cell_type": "markdown",
   "source": "### 3. Swap operation exponentiation",
   "id": "340b23e79bfe438c"
  },
  {
   "metadata": {
    "ExecuteTime": {
     "end_time": "2025-09-03T20:05:06.504198Z",
     "start_time": "2025-09-03T20:05:06.495851Z"
    }
   },
   "cell_type": "code",
   "source": [
    "def w_module_circuit(qc_s, qc_m, rho_copies, deltat):\n",
    "\tsub = QuantumCircuit(qc_m, qc_s, *rho_copies, name=\"W_module\")\n",
    "\talpha = math.cos(deltat)+math.fabs(math.sin(deltat))\n",
    "\tif alpha >=2:\n",
    "\t\traise ValueError(\"alpha must be less than or equal to 2\")\n",
    "\tr1 = [alpha/2, math.sqrt(1-alpha**2/4)]\n",
    "\tr2 = [math.sqrt(math.cos(deltat)/alpha), math.sqrt(math.sin(deltat)/alpha)]\n",
    "\n",
    "\tapply_controlled_statevector(sub, qc_m, qc_s[0], r1, 1, \"R1\")\n",
    "\tapply_controlled_statevector(sub, qc_s[0], qc_s[1], r2, 0, \"R2\")\n",
    "\n",
    "\trho_pair1 = rho_copies[0]\n",
    "\trho_pair2 = rho_copies[1]\n",
    "\t# sub.barrier(label=\"Controlled_Swap\")\n",
    "\tselect_swap(sub, qc_s, qc_m, rho_pair1, rho_pair2, deltat)\n",
    "\t# sub.barrier(label=\"Controlled_Swap\")\n",
    "\n",
    "\tinit_gate = Initialize(r2)\n",
    "\tdagger_gate = init_gate.gates_to_uncompute().to_gate().inverse()\n",
    "\tdagger_gate.label = \"R2_dagger\"\n",
    "\tsub.append(dagger_gate, [qc_s[1]])\n",
    "\n",
    "\treturn sub\n",
    "\n",
    "def apply_w_circuit(mother_circ, qc_s, qc_m, rho_copies, deltat, inverse=False):\n",
    "\tw_block = w_module_circuit(qc_s, qc_m, rho_copies, deltat)\n",
    "\tmother_circ.append(w_block, mother_circ.qubits) if not inverse else mother_circ.append(w_block.inverse(), mother_circ.qubits)"
   ],
   "id": "38ce6223b289c0fc",
   "outputs": [],
   "execution_count": 10
  },
  {
   "metadata": {},
   "cell_type": "markdown",
   "source": "### 4. Swap exponentiation",
   "id": "302854b93cb66da1"
  },
  {
   "metadata": {
    "ExecuteTime": {
     "end_time": "2025-09-03T20:05:06.544606Z",
     "start_time": "2025-09-03T20:05:06.538605Z"
    }
   },
   "cell_type": "code",
   "source": [
    "def swap_exponentiation(qc_s, qc_m, rho_copies, deltat):\n",
    "\tsub = QuantumCircuit(qc_m, qc_s, *rho_copies, name=\"  Controlled e^(-iSΔt)  \")\n",
    "\tsub.label = \"e^(-iSΔt)\"\n",
    "\n",
    "\t# sub.barrier(label=\"Controlled_W\")\n",
    "\tapply_w_circuit(sub, qc_s, qc_m, rho_copies, deltat)\n",
    "\t# sub.barrier(label=\"Controlled_W\")\n",
    "\n",
    "\tsub.x(qc_s[0])\n",
    "\tsub.cz(qc_m,qc_s[0])\n",
    "\tsub.ccz(control_qubit1=qc_m,control_qubit2=qc_s[0],target_qubit=qc_s[1])\n",
    "\tsub.x(qc_s[0])\n",
    "\n",
    "\t# sub.barrier(label=\"Controlled_W_dagger\")\n",
    "\tapply_w_circuit(sub, qc_s, qc_m, rho_copies, deltat, inverse = True)\n",
    "\t# sub.barrier(label=\"Controlled_W_dagger\")\n",
    "\n",
    "\tsub.cz(qc_m,qc_s[0])\n",
    "\tsub.x(qc_s[0])\n",
    "\tsub.ccz(control_qubit1=qc_m,control_qubit2=qc_s[0],target_qubit=qc_s[1])\n",
    "\tsub.x(qc_s[0])\n",
    "\n",
    "\t# sub.barrier(label=\"Controlled_W\")\n",
    "\tapply_w_circuit(sub, qc_s, qc_m, rho_copies, deltat)\n",
    "\t# sub.barrier(label=\"Controlled_W\")\n",
    "\n",
    "\treturn sub\n",
    "\n",
    "def apply_swap_exponentiation(mother_circ, qc_s, qc_m, rho_copies, deltat, inverse=False):\n",
    "\tswap_exp_block = swap_exponentiation(qc_s, qc_m, rho_copies, deltat)\n",
    "\tmother_circ.append(swap_exp_block, mother_circ.qubits) if not inverse else mother_circ.append(swap_exp_block.inverse(), mother_circ.qubits)"
   ],
   "id": "8e73dfc0d23f0aa5",
   "outputs": [],
   "execution_count": 11
  },
  {
   "metadata": {},
   "cell_type": "markdown",
   "source": "## Function for step 12",
   "id": "aefe086e47971c65"
  },
  {
   "metadata": {
    "ExecuteTime": {
     "end_time": "2025-09-03T20:05:06.997698Z",
     "start_time": "2025-09-03T20:05:06.568351Z"
    }
   },
   "cell_type": "code",
   "source": [
    "def quantum_circuit(qstate, Q, deltat):\n",
    "\tnum_rho_size = qstate.num_qubits\n",
    "\n",
    "\tqc_m = QuantumRegister(1, name=\"measure_qubit\")\n",
    "\tqc_s = QuantumRegister(2, name=\"support_qubit\")\n",
    "\n",
    "\trho_copies = []\n",
    "\tfor i in range(2):\n",
    "\t\trho_copies.append(QuantumRegister(num_rho_size, name=f\"rho_{i+1}\"))\n",
    "\n",
    "\tcreq = ClassicalRegister(1, name=\"Measurement_results\")\n",
    "\tqc = QuantumCircuit(qc_m, qc_s, *rho_copies, creq, name=\"Von_Neumann_Entropy\")\n",
    "\n",
    "\tqc.initialize(qstate, rho_copies[0], normalize=True)\n",
    "\n",
    "\tqc.h(qc_m)\n",
    "\n",
    "\tfor i in range(1,Q+1):\n",
    "\t\tqc.initialize(qstate, rho_copies[1], normalize=True)\n",
    "\t\tapply_swap_exponentiation(qc, qc_s, qc_m, rho_copies, deltat)\n",
    "\n",
    "\tqc.h(qc_m)\n",
    "\tqc.measure(qc_m,creq)\n",
    "\treturn qc\n",
    "\n",
    "Q = 1\n",
    "deltat = 0.4\n",
    "ev_delta = 0.2\n",
    "n = 2\n",
    "qstate = generate_vector_state(ev_delta, n)\n",
    "qstate = Statevector(qstate)\n",
    "qc = quantum_circuit(qstate, Q, deltat)\n",
    "qc.draw(\"mpl\")\n",
    "# qc.decompose(reps=2).draw(\"mpl\")\n",
    "# step1 = qc.decompose(gates_to_decompose=['swap_exponentiation_block', 'swap_exponentiation_block_dg'])\n",
    "# step2 = step1.decompose(gates_to_decompose=['Controlled_R1','Controlled_R2', 'swap_block'])\n",
    "# step2.draw('mpl')\n",
    "# qc.decompose(reps=100).draw('mpl')"
   ],
   "id": "5debe88421a03935",
   "outputs": [
    {
     "data": {
      "text/plain": [
       "<Figure size 1147.19x702.333 with 1 Axes>"
      ],
      "image/png": "[encoded data removed]"
     },
     "execution_count": 12,
     "metadata": {},
     "output_type": "execute_result"
    }
   ],
   "execution_count": 12
  },
  {
   "metadata": {},
   "cell_type": "markdown",
   "source": "# Full algorithm",
   "id": "d139503414f8f2a4"
  },
  {
   "metadata": {
    "ExecuteTime": {
     "end_time": "2025-09-03T20:05:07.096001Z",
     "start_time": "2025-09-03T20:05:07.017944Z"
    }
   },
   "cell_type": "code",
   "source": [
    "epsilon = 0.2\n",
    "delta = 0.2\n",
    "deltat = 0.1\n",
    "ev_delta = 0.2\n",
    "n = 1\n",
    "# rho = generate_rho(ev_delta, n)\n",
    "# print(rho)\n",
    "qstate = generate_vector_state(ev_delta, n)\n",
    "qstate = Statevector(qstate)\n",
    "rho = qstate.to_operator().data\n",
    "\n",
    "\n",
    "K = math.ceil(np.log(epsilon*ev_delta)/np.log(1-ev_delta))\n",
    "l_part = 0\n",
    "for i in range(1,K+1):\n",
    "\tl_part += 1/i\n",
    "l_part = 4 * l_part / epsilon\n",
    "L = math.log1p(l_part) * 1 / (ev_delta * ev_delta)\n",
    "M = []\n",
    "for l in range(math.floor(L)+1):\n",
    "\tMl = math.ceil(math.sqrt(math.log1p(l_part)*l/2))\n",
    "\tM.append(Ml)\n",
    "\n",
    "B = get_B(K, L)\n",
    "\n",
    "U = []\n",
    "for l in range(math.floor(L+1)):\n",
    "\tUl = min(l,math.ceil(L/2)+M[l])\n",
    "\tU.append(Ul)\n",
    "\n",
    "D = []\n",
    "for l in range(math.floor(L+1)):\n",
    "\tDl = max(0, math.floor(l/2)-M[l])\n",
    "\tD.append(Dl)\n",
    "\n",
    "def get_t(s, l):\n",
    "\treturn (2*s-l)*math.pi/2\n",
    "\n",
    "F = np.array([])\n",
    "for l in range(math.floor(L)+1):\n",
    "\tfor s in range(D[l],U[l]+1):\n",
    "\t\tf = get_f(s,l)\n",
    "\t\tF = np.append(F, f)\n",
    "\n",
    "F_norm = np.linalg.norm(F, ord = 1)\n",
    "error = epsilon/F_norm\n",
    "\n",
    "N = 0\n",
    "for l in range(math.floor(L)-1):\n",
    "\tN += 2*M[l]+1\n",
    "\n",
    "importance_sampler = ImportanceSampling(rho, D, U, F_norm)\n",
    "B_n_samples = round((F_norm/epsilon)**2*np.log(2/delta))\n",
    "\n",
    "B_samples = []\n",
    "for b in range(1,B_n_samples+1):\n",
    "\tsample = importance_sampler.generate_sample()\n",
    "\tB_samples.append(sample)"
   ],
   "id": "17615b2a4f4acb55",
   "outputs": [],
   "execution_count": 13
  },
  {
   "metadata": {
    "ExecuteTime": {
     "end_time": "2025-09-03T20:05:07.258978Z",
     "start_time": "2025-09-03T20:05:07.116638Z"
    }
   },
   "cell_type": "code",
   "source": [
    "sample = importance_sampler.generate_sample()\n",
    "R_values = [s[1] for s in importance_sampler.samples]\n",
    "\n",
    "plt.hist(R_values, bins=30, density=True)\n",
    "plt.xlabel(\"R value\")\n",
    "plt.ylabel(\"Probability Density\")\n",
    "plt.title(\"Importance Sampling Distribution\")\n",
    "plt.show()"
   ],
   "id": "f7b6a0f1e9a6f6b7",
   "outputs": [
    {
     "name": "stderr",
     "output_type": "stream",
     "text": [
      "C:\\Users\\adria\\miniconda3\\envs\\A-Practical-Guide-to-Quantum-Machine-Learning-and-Quantum-Optimization\\Lib\\site-packages\\matplotlib\\cbook.py:1719: ComplexWarning: Casting complex values to real discards the imaginary part\n",
      "  return math.isfinite(val)\n",
      "C:\\Users\\adria\\miniconda3\\envs\\A-Practical-Guide-to-Quantum-Machine-Learning-and-Quantum-Optimization\\Lib\\site-packages\\numpy\\lib\\_histograms_impl.py:853: ComplexWarning: Casting complex values to real discards the imaginary part\n",
      "  indices = f_indices.astype(np.intp)\n",
      "C:\\Users\\adria\\miniconda3\\envs\\A-Practical-Guide-to-Quantum-Machine-Learning-and-Quantum-Optimization\\Lib\\site-packages\\numpy\\lib\\_histograms_impl.py:896: ComplexWarning: Casting complex values to real discards the imaginary part\n",
      "  db = np.array(np.diff(bin_edges), float)\n",
      "C:\\Users\\adria\\miniconda3\\envs\\A-Practical-Guide-to-Quantum-Machine-Learning-and-Quantum-Optimization\\Lib\\site-packages\\matplotlib\\axes\\_axes.py:7135: ComplexWarning: Casting complex values to real discards the imaginary part\n",
      "  bins = np.array(bins, float)  # causes problems if float16\n"
     ]
    },
    {
     "data": {
      "text/plain": [
       "<Figure size 640x480 with 1 Axes>"
      ],
      "image/png": "[encoded data removed]"
     },
     "metadata": {},
     "output_type": "display_data"
    }
   ],
   "execution_count": 14
  },
  {
   "metadata": {
    "ExecuteTime": {
     "end_time": "2025-09-03T20:05:07.466598Z",
     "start_time": "2025-09-03T20:05:07.293935Z"
    }
   },
   "cell_type": "code",
   "source": [
    "print(qstate)\n",
    "von_n_entropy = entropy(qstate)\n",
    "print(f\"Von Neumann Entropy of the state is {von_n_entropy}\")"
   ],
   "id": "868deec246466efb",
   "outputs": [
    {
     "name": "stdout",
     "output_type": "stream",
     "text": [
      "Statevector([0.77752554+0.j, 0.62885136+0.j],\n",
      "            dims=(2,))\n",
      "Von Neumann Entropy of the state is 0\n"
     ]
    }
   ],
   "execution_count": 15
  },
  {
   "metadata": {
    "jupyter": {
     "is_executing": true
    },
    "ExecuteTime": {
     "end_time": "2025-09-03T20:06:12.850438800Z",
     "start_time": "2025-09-03T20:05:07.487647Z"
    }
   },
   "cell_type": "code",
   "source": [
    "sim = AerSimulator()\n",
    "\n",
    "j = 0\n",
    "total_sum = 0\n",
    "print(f\"Number of B_n_samples: {B_n_samples}\")\n",
    "print(\"=====================================\")\n",
    "\n",
    "for j in tqdm(range(B_n_samples), desc='Completed runs'):\n",
    "\tB_data = B_samples[j]\n",
    "\tQ = get_Q(s=B_data[2],l=B_data[3],error=error)\n",
    "\n",
    "\tqc = quantum_circuit(qstate, Q, deltat)\n",
    "\tqc_decomp = qc.decompose(reps=10)\n",
    "\tprint(f\"Quantum circuit decomposed. Circuit depth: {qc_decomp.depth()}\")\n",
    "\n",
    "\tstart = time.time()\n",
    "\tcompiled_qc = transpile(qc_decomp, sim, optimization_level=1)\n",
    "\ttotal = time.time() - start\n",
    "\n",
    "\tprint(f\"Compilation complete. Total time taken: {round(total,2)}s\")\n",
    "\n",
    "\tjob = sim.run(compiled_qc, shots=1024)\n",
    "\tcounts = job.result().get_counts()\n",
    "\test = math.fabs(counts.get(\"0\", 0) / 1024 - counts.get(\"1\", 0) / 1024)\n",
    "\n",
    "\ttotal_sum += est\n",
    "\n",
    "print(\"=====================================\")\n",
    "von_neumann_entropy_est = F_norm*total_sum/B_n_samples\n",
    "print(f\"Estimated Von Neumann Entropy is {von_neumann_entropy_est}. Actual Von Neumann Entropy is {von_n_entropy}\" )\n"
   ],
   "id": "c43e03b843f14f7a",
   "outputs": [
    {
     "name": "stdout",
     "output_type": "stream",
     "text": [
      "Number of B_n_samples: 390\n",
      "=====================================\n"
     ]
    },
    {
     "name": "stderr",
     "output_type": "stream",
     "text": [
      "Completed runs:   0%|          | 0/390 [00:00<?, ?it/s]"
     ]
    },
    {
     "name": "stdout",
     "output_type": "stream",
     "text": [
      "Quantum circuit decomposed. Circuit depth: 22578\n",
      "Compilation complete. Total time taken: 3.44s\n"
     ]
    },
    {
     "name": "stderr",
     "output_type": "stream",
     "text": [
      "Completed runs:   0%|          | 1/390 [00:14<1:33:55, 14.49s/it]"
     ]
    }
   ],
   "execution_count": null
  }
 ],
 "metadata": {
  "kernelspec": {
   "display_name": "Python 3",
   "language": "python",
   "name": "python3"
  },
  "language_info": {
   "codemirror_mode": {
    "name": "ipython",
    "version": 2
   },
   "file_extension": ".py",
   "mimetype": "text/x-python",
   "name": "python",
   "nbconvert_exporter": "python",
   "pygments_lexer": "ipython2",
   "version": "2.7.6"
  }
 },
 "nbformat": 4,
 "nbformat_minor": 5
}
