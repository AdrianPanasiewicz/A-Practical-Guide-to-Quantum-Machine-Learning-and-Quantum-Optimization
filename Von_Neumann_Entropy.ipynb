{
 "cells": [
  {
   "metadata": {
    "ExecuteTime": {
     "end_time": "2025-08-30T16:51:44.499108Z",
     "start_time": "2025-08-30T16:51:43.591450Z"
    }
   },
   "cell_type": "code",
   "source": [
    "import math\n",
    "import random\n",
    "import numpy as np\n",
    "from matplotlib import pyplot as plt\n",
    "from qiskit import QuantumCircuit, QuantumRegister, ClassicalRegister\n",
    "from qiskit.circuit.library import UnitaryGate, Initialize\n",
    "from qiskit.quantum_info import Statevector, Operator"
   ],
   "id": "de79977987e91668",
   "outputs": [],
   "execution_count": 1
  },
  {
   "metadata": {},
   "cell_type": "markdown",
   "source": [
    "# Input:\n",
    " Constants epsilon, δ, Λ ∈ (0, 1), and copies of state ρ ∈ C2n×2n ."
   ],
   "id": "32c9b12b1c892088"
  },
  {
   "metadata": {
    "ExecuteTime": {
     "end_time": "2025-08-30T16:51:44.635948Z",
     "start_time": "2025-08-30T16:51:44.629960Z"
    }
   },
   "cell_type": "code",
   "source": [
    "def generate_vector_state(ev_delta, n):\n",
    "\tif ev_delta > 1:\n",
    "\t\traise ValueError(\"ev_delta must be less than or equal to 1\")\n",
    "\tdim = pow(2,n)\n",
    "\tEV = []\n",
    "\tfor i in range(dim):\n",
    "\t\tif sum(EV) <= 1:\n",
    "\t\t\tphi_ev = random.uniform(ev_delta, 1-sum(EV))\n",
    "\t\t\tif 1-sum(EV)-phi_ev-ev_delta < 0 or i==dim-1:\n",
    "\t\t\t\tphi_ev = 1.0-sum(EV)\n",
    "\t\t\tEV.append(phi_ev)\n",
    "\t\telse:\n",
    "\t\t\tEV.append(0.0)\n",
    "\treturn EV"
   ],
   "id": "c0dec50561704a3a",
   "outputs": [],
   "execution_count": 2
  },
  {
   "cell_type": "code",
   "id": "initial_id",
   "metadata": {
    "collapsed": true,
    "ExecuteTime": {
     "end_time": "2025-08-30T16:51:44.651233Z",
     "start_time": "2025-08-30T16:51:44.646277Z"
    }
   },
   "source": [
    "# This is problematic because initalizing a mixed density matrix is not trivial. Maybe I will implement it later.\n",
    "def generate_rho(ev_delta, n):\n",
    "\tif ev_delta > 1:\n",
    "\t\traise ValueError(\"ev_delta must be less than or equal to 1\")\n",
    "\tdim = pow(2,n)\n",
    "\tEV = []\n",
    "\tfor i in range(dim):\n",
    "\t\tif sum(EV) <= 1 - ev_delta:\n",
    "\t\t\tphi_ev = random.uniform(ev_delta, 1-sum(EV))\n",
    "\t\t\tif 1-sum(EV)-phi_ev-ev_delta < 0 or i==dim-1:\n",
    "\t\t\t\tphi_ev = 1.0-sum(EV)\n",
    "\t\t\tEV.append(phi_ev)\n",
    "\t\telse:\n",
    "\t\t\tEV.append(0.0)\n",
    "\tEV = EV\n",
    "\trho = np.diag(EV)\n",
    "\n",
    "\tZ = np.random.randn(dim, dim) + 1j*np.random.randn(dim, dim)\n",
    "\tR, _ = np.linalg.qr(Z)\n",
    "\n",
    "\trho = R @ rho @ R.conj().T\n",
    "\treturn rho"
   ],
   "outputs": [],
   "execution_count": 3
  },
  {
   "metadata": {
    "ExecuteTime": {
     "end_time": "2025-08-30T16:51:44.663708Z",
     "start_time": "2025-08-30T16:51:44.658960Z"
    }
   },
   "cell_type": "code",
   "source": [
    "epsilon = 0.2\n",
    "delta = 0.05\n",
    "ev_delta = 0.1\n",
    "n = 3\n",
    "# rho = generate_rho(ev_delta, n)\n",
    "# print(rho)\n",
    "qstate = generate_vector_state(ev_delta, n)\n",
    "qstate = Statevector(qstate)\n",
    "rho = qstate.to_operator().data\n"
   ],
   "id": "28b6e76de286d1f1",
   "outputs": [],
   "execution_count": 4
  },
  {
   "metadata": {},
   "cell_type": "markdown",
   "source": [
    "# Algorithm\n",
    "## Step 1\n",
    "Compute coefficients L, K, Ml, and b(k)  l as given in Lemma 1."
   ],
   "id": "56294e91e0f01fe9"
  },
  {
   "metadata": {
    "ExecuteTime": {
     "end_time": "2025-08-30T16:51:44.964376Z",
     "start_time": "2025-08-30T16:51:44.680233Z"
    }
   },
   "cell_type": "code",
   "source": [
    "K = math.ceil(np.log(epsilon*ev_delta)/np.log(1-ev_delta)) # Number of elements in truncated Taylor series\n",
    "l_part = 0\n",
    "for i in range(1,K+1):\n",
    "\tl_part += 1/i\n",
    "l_part = 4 * l_part / epsilon\n",
    "L = math.log1p(l_part) * 1 / (ev_delta * ev_delta)\n",
    "M = []\n",
    "for l in range(math.floor(L)+1):\n",
    "\tMl = math.ceil(math.sqrt(math.log1p(l_part)*l/2))\n",
    "\tM.append(Ml)\n",
    "\n",
    "# Calculating blk\n",
    "def get_B(K, L):\n",
    "\tbkl_matrix = []\n",
    "\tfor k in range(1, K + 1):\n",
    "\t\tbl_array = []\n",
    "\t\tfor l in range(math.floor(L)+1):\n",
    "\t\t\tif k == 1:\n",
    "\t\t\t\tif l%2 == 0:\n",
    "\t\t\t\t\tblk = 0.0\n",
    "\t\t\t\telse:\n",
    "\t\t\t\t\tblk = 2 * math.comb(l-1,int((l-1)/2))/(math.pi*math.pow(2,l-1)*l)\n",
    "\t\t\t\tbl_array.append(blk)\n",
    "\t\t\telse:\n",
    "\t\t\t\tblk = 0.0\n",
    "\t\t\t\tfor l_prime in range(l+1):\n",
    "\t\t\t\t\tblk += bkl_matrix[k-2][l_prime]*bkl_matrix[0][l-l_prime]\n",
    "\t\t\t\tbl_array.append(blk)\n",
    "\n",
    "\t\tbkl_matrix.append(bl_array)\n",
    "\n",
    "\treturn bkl_matrix\n",
    "\n",
    "B = get_B(K, L)\n",
    "\n",
    "U = []\n",
    "for l in range(math.floor(L+1)):\n",
    "\tUl = min(l,math.ceil(L/2)+M[l])\n",
    "\tU.append(Ul)\n",
    "\n",
    "D = []\n",
    "for l in range(math.floor(L+1)):\n",
    "\tDl = max(0, math.floor(l/2)-M[l])\n",
    "\tD.append(Dl)\n",
    "\n",
    "def t(s,l):\n",
    "\treturn (2*s-l)*math.pi/2\n",
    "\n",
    "# Variables K, l, M, B, U, D, t"
   ],
   "id": "b70c8929452551dd",
   "outputs": [],
   "execution_count": 5
  },
  {
   "metadata": {},
   "cell_type": "markdown",
   "source": [
    "## Step 2\n",
    " Compute ‖f ‖l_1 , as given in Eq. (31)."
   ],
   "id": "7b5b7a8c1d2bae06"
  },
  {
   "metadata": {
    "ExecuteTime": {
     "end_time": "2025-08-30T16:51:45.528771Z",
     "start_time": "2025-08-30T16:51:44.976361Z"
    }
   },
   "cell_type": "code",
   "source": [
    "def get_f(s,l):\n",
    "\tk_sum= 0\n",
    "\tfor k in range(1,K+1):\n",
    "\t\tk_sum += B[k-1][l]/k\n",
    "\treturn k_sum*math.comb(l,s)/math.pow(2,l)\n",
    "\n",
    "F = np.array([])\n",
    "for l in range(math.floor(L)+1):\n",
    "\tfor s in range(D[l],U[l]+1):\n",
    "\t\tf = get_f(s,l)\n",
    "\t\tF = np.append(F, f)\n",
    "\n",
    "F_norm = np.linalg.norm(F, ord = 1)\n",
    "print(F_norm)"
   ],
   "id": "e739640a4c71422c",
   "outputs": [
    {
     "name": "stdout",
     "output_type": "stream",
     "text": [
      "3.3676828881440906\n"
     ]
    }
   ],
   "execution_count": 6
  },
  {
   "metadata": {},
   "cell_type": "markdown",
   "source": [
    "## Step 3\n",
    "Set estimation error ε = epsilon/‖f ‖l_1"
   ],
   "id": "e38fc578bdf95e23"
  },
  {
   "metadata": {
    "ExecuteTime": {
     "end_time": "2025-08-30T16:51:45.545982Z",
     "start_time": "2025-08-30T16:51:45.541507Z"
    }
   },
   "cell_type": "code",
   "source": [
    "error = epsilon/F_norm\n",
    "print(error)"
   ],
   "id": "437e3c36e025c593",
   "outputs": [
    {
     "name": "stdout",
     "output_type": "stream",
     "text": [
      "0.05938801444283811\n"
     ]
    }
   ],
   "execution_count": 7
  },
  {
   "metadata": {},
   "cell_type": "markdown",
   "source": [
    "## Step 4\n",
    "Set integer N = ∑bLc  l=0(2Ml + 1)."
   ],
   "id": "ca1dc8dc99696ca4"
  },
  {
   "metadata": {
    "ExecuteTime": {
     "end_time": "2025-08-30T16:51:45.565783Z",
     "start_time": "2025-08-30T16:51:45.561138Z"
    }
   },
   "cell_type": "code",
   "source": [
    "N = 0\n",
    "for l in range(math.floor(L)-1):\n",
    "\tN += 2*M[l]+1\n",
    "print(N)"
   ],
   "id": "10daa5d0e5c09c7d",
   "outputs": [
    {
     "name": "stdout",
     "output_type": "stream",
     "text": [
      "19399\n"
     ]
    }
   ],
   "execution_count": 8
  },
  {
   "metadata": {},
   "cell_type": "markdown",
   "source": [
    "## Step 5\n",
    "Define a distribution as in Eq. (32)."
   ],
   "id": "4fb61c43aa6ec276"
  },
  {
   "metadata": {
    "ExecuteTime": {
     "end_time": "2025-08-30T16:51:46.432652Z",
     "start_time": "2025-08-30T16:51:45.580690Z"
    }
   },
   "cell_type": "code",
   "source": [
    "class ImportanceSampling:\n",
    "\tdef __init__(self, rho, D, U, F_norm):\n",
    "\t\tself.samples = []\n",
    "\t\tcurrent_max = 0\n",
    "\t\tfor l in range(math.floor(L)+1):\n",
    "\t\t\tfor s in range(D[l],U[l]+1):\n",
    "\t\t\t\tR = np.trace(rho*np.cos(rho*(2*s-l)*math.pi/2))\n",
    "\t\t\t\tprob_density = get_f(s,l)/F_norm\n",
    "\t\t\t\tcurrent_max += prob_density\n",
    "\t\t\t\tdata = [current_max, R, s, l]\n",
    "\t\t\t\tself.samples.append(data)\n",
    "\n",
    "\tdef generate_sample(self):\n",
    "\t\trand_val = random.uniform(0,1)\n",
    "\t\tfor i in range(len(self.samples)):\n",
    "\t\t\tif rand_val <= self.samples[i][0]:\n",
    "\t\t\t\treturn self.samples[i]\n",
    "\n",
    "importance_sampler = ImportanceSampling(rho, D, U, F_norm)\n",
    "sample = importance_sampler.generate_sample()\n",
    "R_values = [s[1] for s in importance_sampler.samples]\n",
    "\n",
    "plt.hist(R_values, bins=30, density=True)\n",
    "plt.xlabel(\"R value\")\n",
    "plt.ylabel(\"Probability Density\")\n",
    "plt.title(\"Importance Sampling Distribution\")\n",
    "plt.show()"
   ],
   "id": "ab61cd908c0b9bc7",
   "outputs": [
    {
     "name": "stderr",
     "output_type": "stream",
     "text": [
      "C:\\Users\\adria\\miniconda3\\envs\\A-Practical-Guide-to-Quantum-Machine-Learning-and-Quantum-Optimization\\Lib\\site-packages\\matplotlib\\cbook.py:1719: ComplexWarning: Casting complex values to real discards the imaginary part\n",
      "  return math.isfinite(val)\n",
      "C:\\Users\\adria\\miniconda3\\envs\\A-Practical-Guide-to-Quantum-Machine-Learning-and-Quantum-Optimization\\Lib\\site-packages\\numpy\\lib\\_histograms_impl.py:853: ComplexWarning: Casting complex values to real discards the imaginary part\n",
      "  indices = f_indices.astype(np.intp)\n",
      "C:\\Users\\adria\\miniconda3\\envs\\A-Practical-Guide-to-Quantum-Machine-Learning-and-Quantum-Optimization\\Lib\\site-packages\\numpy\\lib\\_histograms_impl.py:896: ComplexWarning: Casting complex values to real discards the imaginary part\n",
      "  db = np.array(np.diff(bin_edges), float)\n",
      "C:\\Users\\adria\\miniconda3\\envs\\A-Practical-Guide-to-Quantum-Machine-Learning-and-Quantum-Optimization\\Lib\\site-packages\\matplotlib\\axes\\_axes.py:7135: ComplexWarning: Casting complex values to real discards the imaginary part\n",
      "  bins = np.array(bins, float)  # causes problems if float16\n"
     ]
    },
    {
     "data": {
      "text/plain": [
       "<Figure size 640x480 with 1 Axes>"
      ],
      "image/png": "[encoded data removed]"
     },
     "metadata": {},
     "output_type": "display_data"
    }
   ],
   "execution_count": 9
  },
  {
   "metadata": {},
   "cell_type": "markdown",
   "source": [
    "## Step 6\n",
    "Set integer B = #Samples as in Eq. (34)."
   ],
   "id": "3c8c4530a22731b1"
  },
  {
   "metadata": {
    "ExecuteTime": {
     "end_time": "2025-08-30T16:51:46.454849Z",
     "start_time": "2025-08-30T16:51:46.451023Z"
    }
   },
   "cell_type": "code",
   "source": [
    "B_n_samples = round((F_norm/epsilon)**2*np.log(2/delta))\n",
    "print(f\"Required number of samples: {B_n_samples}\")"
   ],
   "id": "b0e33c6339f84c6b",
   "outputs": [
    {
     "name": "stdout",
     "output_type": "stream",
     "text": [
      "Required number of samples: 1046\n"
     ]
    }
   ],
   "execution_count": 10
  },
  {
   "metadata": {},
   "cell_type": "markdown",
   "source": [
    "## Step 7\n",
    "Sample B pairs of (s1, l1), . . ., (sB, lB)."
   ],
   "id": "7ac724a2610ee4f4"
  },
  {
   "metadata": {
    "ExecuteTime": {
     "end_time": "2025-08-30T16:51:46.734669Z",
     "start_time": "2025-08-30T16:51:46.475634Z"
    }
   },
   "cell_type": "code",
   "source": [
    "B_samples = []\n",
    "for b in range(1,B_n_samples+1):\n",
    "\tsample = importance_sampler.generate_sample()\n",
    "\tB_samples.append(sample)"
   ],
   "id": "45ec72e2b7b5c1c8",
   "outputs": [],
   "execution_count": 11
  },
  {
   "metadata": {},
   "cell_type": "markdown",
   "source": "## Function for step 10",
   "id": "defe088e3d7a6ad0"
  },
  {
   "metadata": {
    "ExecuteTime": {
     "end_time": "2025-08-30T16:51:46.751259Z",
     "start_time": "2025-08-30T16:51:46.747487Z"
    }
   },
   "cell_type": "code",
   "source": [
    "def get_Q(s,l,error):\n",
    "\tQ = math.ceil((2*s-l)**2*math.pi**2/(4*error))\n",
    "\treturn Q"
   ],
   "id": "e484e7bdc0d5f6a",
   "outputs": [],
   "execution_count": 12
  },
  {
   "metadata": {},
   "cell_type": "markdown",
   "source": [
    "## Quantum subcircuits\n",
    "### 1. Select subcircuit"
   ],
   "id": "80b925415ab09a7"
  },
  {
   "metadata": {
    "ExecuteTime": {
     "end_time": "2025-08-30T16:51:46.787573Z",
     "start_time": "2025-08-30T16:51:46.781493Z"
    }
   },
   "cell_type": "code",
   "source": [
    "def select_subcircuit(qc_s, qc_m, rho_pair1, rho_pair2, deltat):\n",
    "\tsub = QuantumCircuit(qc_m, qc_s, rho_pair1, rho_pair2, name=\"swap_block\")\n",
    "\tsub.ccx(qc_m,qc_s[0],qc_s[1])\n",
    "\n",
    "\t# sub.barrier(rho_pair1, rho_pair2, label=\"Swap\")\n",
    "\n",
    "\tfor i in range(rho_pair1.size):\n",
    "\t\tsub.cx(rho_pair2[i], rho_pair1[i])\n",
    "\t\tsub.ccx(qc_s[1],rho_pair1[i],rho_pair2[i])\n",
    "\t\tsub.cx(rho_pair2[i], rho_pair1[i])\n",
    "\n",
    "\t# sub.barrier(rho_pair1, rho_pair2, label=\"Swap\")\n",
    "\n",
    "\tsub.ccx(qc_m,qc_s[0],qc_s[1])\n",
    "\tsub.cs(qc_m,qc_s[0])\n",
    "\tif deltat > 0:\n",
    "\t\tsub.cz(qc_m,qc_s[0])\n",
    "\n",
    "\treturn sub\n",
    "\n",
    "def select_swap(mother_circ, qc_s, qc_m, rho_pair1, rho_pair2, deltat, inverse = False):\n",
    "\tswap_block = select_subcircuit(qc_s, qc_m, rho_pair1, rho_pair2, deltat)\n",
    "\tmother_circ.append(swap_block, mother_circ.qubits) if not inverse else mother_circ.append(swap_block.inverse(), mother_circ.qubits)"
   ],
   "id": "363b3d3f51058948",
   "outputs": [],
   "execution_count": 13
  },
  {
   "metadata": {},
   "cell_type": "markdown",
   "source": "### 2. Initialize controlled statevector",
   "id": "2a42f5a4237d61e2"
  },
  {
   "metadata": {
    "ExecuteTime": {
     "end_time": "2025-08-30T16:51:46.808709Z",
     "start_time": "2025-08-30T16:51:46.802809Z"
    }
   },
   "cell_type": "code",
   "source": [
    "def controlled_statevector_subcircuit(control_qbit, target_qbit, statevector, control_state, label=\"\"):\n",
    "\tsub = QuantumCircuit(2, name=f\"Controlled_{label}\")\n",
    "\tinit_gate = Initialize(statevector)\n",
    "\tgate = init_gate.gates_to_uncompute().to_gate()\n",
    "\tgate.label = label\n",
    "\tc_gate = gate.control()\n",
    "\tif control_state == 1:\n",
    "\t\tsub.append(c_gate, [0, 1])\n",
    "\telif control_state == 0:\n",
    "\t\tsub.x(0)\n",
    "\t\tsub.append(c_gate, [0, 1])\n",
    "\t\tsub.x(0)\n",
    "\telse:\n",
    "\t\traise ValueError(\"control_state must be 0 or 1\")\n",
    "\treturn sub\n",
    "\n",
    "def apply_controlled_statevector(mother_circ, control_qbit, target_qbit, statevector, control_state, label=\"\", inverse = False):\n",
    "\tstatevector_block = controlled_statevector_subcircuit(control_qbit, target_qbit, statevector, control_state, label)\n",
    "\tmother_circ.append(statevector_block, [control_qbit,target_qbit]) if not inverse else mother_circ.append(statevector_block.inverse(), [control_qbit,target_qbit])"
   ],
   "id": "20f743f29d9a5785",
   "outputs": [],
   "execution_count": 14
  },
  {
   "metadata": {},
   "cell_type": "markdown",
   "source": "SS### 3. Swap operation exponentiation",
   "id": "340b23e79bfe438c"
  },
  {
   "metadata": {
    "ExecuteTime": {
     "end_time": "2025-08-30T16:51:46.834547Z",
     "start_time": "2025-08-30T16:51:46.828018Z"
    }
   },
   "cell_type": "code",
   "source": [
    "def w_module_circuit(qc_s, qc_m, rho_copies, deltat):\n",
    "\tsub = QuantumCircuit(qc_m, qc_s, *rho_copies, name=\"W_module\")\n",
    "\talpha = math.cos(deltat)+math.fabs(math.sin(deltat))\n",
    "\tif alpha >=2:\n",
    "\t\traise ValueError(\"alpha must be less than or equal to 2\")\n",
    "\tr1 = [alpha/2, math.sqrt(1-alpha**2/4)]\n",
    "\tr2 = [math.sqrt(math.cos(deltat)/alpha), math.sqrt(math.sin(deltat)/alpha)]\n",
    "\n",
    "\tapply_controlled_statevector(sub, qc_m, qc_s[0], r1, 1, \"R1\")\n",
    "\tapply_controlled_statevector(sub, qc_s[0], qc_s[1], r2, 0, \"R2\")\n",
    "\n",
    "\trho_pair1 = rho_copies[0]\n",
    "\trho_pair2 = rho_copies[1]\n",
    "\tsub.barrier(label=\"Controlled_Swap\")\n",
    "\tselect_swap(sub, qc_s, qc_m, rho_pair1, rho_pair2, deltat)\n",
    "\tsub.barrier(label=\"Controlled_Swap\")\n",
    "\n",
    "\tinit_gate = Initialize(r2)\n",
    "\tdagger_gate = init_gate.gates_to_uncompute().to_gate().inverse()\n",
    "\tdagger_gate.label = \"R2_dagger\"\n",
    "\tsub.append(dagger_gate, [qc_s[1]])\n",
    "\n",
    "\treturn sub\n",
    "\n",
    "def apply_w_circuit(mother_circ, qc_s, qc_m, rho_copies, deltat, inverse=False):\n",
    "\tw_block = w_module_circuit(qc_s, qc_m, rho_copies, deltat)\n",
    "\tmother_circ.append(w_block, mother_circ.qubits) if not inverse else mother_circ.append(w_block.inverse(), mother_circ.qubits)"
   ],
   "id": "38ce6223b289c0fc",
   "outputs": [],
   "execution_count": 15
  },
  {
   "metadata": {},
   "cell_type": "markdown",
   "source": "### 4. Swap exponentiation",
   "id": "302854b93cb66da1"
  },
  {
   "metadata": {
    "ExecuteTime": {
     "end_time": "2025-08-30T17:15:21.816563Z",
     "start_time": "2025-08-30T17:15:21.808928Z"
    }
   },
   "cell_type": "code",
   "source": [
    "def swap_exponentiation(qc_s, qc_m, rho_copies, deltat):\n",
    "\tsub = QuantumCircuit(qc_m, qc_s, *rho_copies, name=\"  e^(-iSΔt)  \")\n",
    "\tsub.label = \"e^(-iSΔt)\"\n",
    "\n",
    "\tsub.barrier(label=\"Controlled_W\")\n",
    "\tapply_w_circuit(sub, qc_s, qc_m, rho_copies, deltat)\n",
    "\tsub.barrier(label=\"Controlled_W\")\n",
    "\n",
    "\tsub.x(qc_s[0])\n",
    "\tsub.cz(qc_m,qc_s[0])\n",
    "\tsub.ccz(control_qubit1=qc_m,control_qubit2=qc_s[0],target_qubit=qc_s[1])\n",
    "\tsub.x(qc_s[0])\n",
    "\n",
    "\tsub.barrier(label=\"Controlled_W_dagger\")\n",
    "\tapply_w_circuit(sub, qc_s, qc_m, rho_copies, deltat, inverse = True)\n",
    "\tsub.barrier(label=\"Controlled_W_dagger\")\n",
    "\n",
    "\tsub.cz(qc_m,qc_s[0])\n",
    "\tsub.x(qc_s[0])\n",
    "\tsub.ccz(control_qubit1=qc_m,control_qubit2=qc_s[0],target_qubit=qc_s[1])\n",
    "\tsub.x(qc_s[0])\n",
    "\n",
    "\tsub.barrier(label=\"Controlled_W\")\n",
    "\tapply_w_circuit(sub, qc_s, qc_m, rho_copies, deltat)\n",
    "\tsub.barrier(label=\"Controlled_W\")\n",
    "\n",
    "\treturn sub\n",
    "\n",
    "def apply_swap_exponentiation(mother_circ, qc_s, qc_m, rho_copies, deltat, inverse=False):\n",
    "\tswap_exp_block = swap_exponentiation(qc_s, qc_m, rho_copies, deltat)\n",
    "\tmother_circ.append(swap_exp_block, mother_circ.qubits) if not inverse else mother_circ.append(swap_exp_block.inverse(), mother_circ.qubits)"
   ],
   "id": "8e73dfc0d23f0aa5",
   "outputs": [],
   "execution_count": 77
  },
  {
   "metadata": {},
   "cell_type": "markdown",
   "source": "## Function for step 12",
   "id": "aefe086e47971c65"
  },
  {
   "metadata": {
    "ExecuteTime": {
     "end_time": "2025-08-30T17:15:23.581835Z",
     "start_time": "2025-08-30T17:15:23.440119Z"
    }
   },
   "cell_type": "code",
   "source": [
    "def quantum_circuit(qstate, Q, deltat):\n",
    "\tnum_rho_size = qstate.num_qubits\n",
    "\n",
    "\tqc_m = QuantumRegister(1, name=\"measure_qubit\")\n",
    "\tqc_s = QuantumRegister(2, name=\"support_qubit\")\n",
    "\n",
    "\trho_copies = []\n",
    "\tfor i in range(2):\n",
    "\t\trho_copies.append(QuantumRegister(num_rho_size, name=f\"rho_{i+1}\"))\n",
    "\n",
    "\tcreq = ClassicalRegister(1, name=\"Measurement_results\")\n",
    "\tqc = QuantumCircuit(qc_m, qc_s, *rho_copies, creq, name=\"Von_Neumann_Entropy\")\n",
    "\n",
    "\tqc.initialize(qstate, rho_copies[0], normalize=True)\n",
    "\n",
    "\tqc.h(qc_m)\n",
    "\n",
    "\tfor i in range(1,Q+1):\n",
    "\t\tqc.initialize(qstate, rho_copies[1], normalize=True)\n",
    "\t\tapply_swap_exponentiation(qc, qc_s, qc_m, rho_copies, deltat)\n",
    "\n",
    "\n",
    "\tqc.h(qc_m)\n",
    "\tqc.measure(qc_m,creq)\n",
    "\treturn qc\n",
    "\n",
    "Q = 1\n",
    "deltat = 0.4\n",
    "qc = quantum_circuit(qstate, Q, deltat)\n",
    "# qc.decompose(reps=2).draw(\"mpl\")\n",
    "# step1 = qc.decompose(gates_to_decompose=['swap_exponentiation_block', 'swap_exponentiation_block_dg'])\n",
    "# step2 = step1.decompose(gates_to_decompose=['Controlled_R1','Controlled_R2', 'swap_block'])\n",
    "# step2.draw('mpl')\n",
    "qc.draw('mpl')"
   ],
   "id": "5debe88421a03935",
   "outputs": [
    {
     "data": {
      "text/plain": [
       "<Figure size 979.972x535.111 with 1 Axes>"
      ],
      "image/png": "[encoded data removed]"
     },
     "execution_count": 78,
     "metadata": {},
     "output_type": "execute_result"
    }
   ],
   "execution_count": 78
  },
  {
   "metadata": {},
   "cell_type": "markdown",
   "source": "# Full algorithm",
   "id": "d139503414f8f2a4"
  },
  {
   "metadata": {
    "ExecuteTime": {
     "end_time": "2025-08-30T17:14:55.802200Z",
     "start_time": "2025-08-30T17:14:41.495297Z"
    }
   },
   "cell_type": "code",
   "source": [
    "epsilon = 0.4\n",
    "delta = 0.4\n",
    "deltat = 0.4\n",
    "ev_delta = 0.2\n",
    "n = 1\n",
    "# rho = generate_rho(ev_delta, n)\n",
    "# print(rho)\n",
    "qstate = generate_vector_state(ev_delta, n)\n",
    "qstate = Statevector(qstate)\n",
    "rho = qstate.to_operator().data\n",
    "\n",
    "\n",
    "K = math.ceil(np.log(epsilon*ev_delta)/np.log(1-ev_delta))\n",
    "l_part = 0\n",
    "for i in range(1,K+1):\n",
    "\tl_part += 1/i\n",
    "l_part = 4 * l_part / epsilon\n",
    "L = math.log1p(l_part) * 1 / (ev_delta * ev_delta)\n",
    "M = []\n",
    "for l in range(math.floor(L)+1):\n",
    "\tMl = math.ceil(math.sqrt(math.log1p(l_part)*l/2))\n",
    "\tM.append(Ml)\n",
    "\n",
    "B = get_B(K, L)\n",
    "\n",
    "U = []\n",
    "for l in range(math.floor(L+1)):\n",
    "\tUl = min(l,math.ceil(L/2)+M[l])\n",
    "\tU.append(Ul)\n",
    "\n",
    "D = []\n",
    "for l in range(math.floor(L+1)):\n",
    "\tDl = max(0, math.floor(l/2)-M[l])\n",
    "\tD.append(Dl)\n",
    "\n",
    "def t(s,l):\n",
    "\treturn (2*s-l)*math.pi/2\n",
    "\n",
    "# Variables K, l, M, B, U, D, t\n",
    "\n",
    "F = np.array([])\n",
    "for l in range(math.floor(L)+1):\n",
    "\tfor s in range(D[l],U[l]+1):\n",
    "\t\tf = get_f(s,l)\n",
    "\t\tF = np.append(F, f)\n",
    "\n",
    "F_norm = np.linalg.norm(F, ord = 1)\n",
    "error = epsilon/F_norm\n",
    "\n",
    "N = 0\n",
    "for l in range(math.floor(L)-1):\n",
    "\tN += 2*M[l]+1\n",
    "\n",
    "importance_sampler = ImportanceSampling(rho, D, U, F_norm)\n",
    "B_n_samples = round((F_norm/epsilon)**2*np.log(2/delta))\n",
    "\n",
    "B_samples = []\n",
    "for b in range(1,B_n_samples+1):\n",
    "\tsample = importance_sampler.generate_sample()\n",
    "\tB_samples.append(sample)\n",
    "\n",
    "j = 0\n",
    "total_sum = 0\n",
    "while j < B_n_samples:\n",
    "\tB_data = B_samples[j]\n",
    "\tQ = get_Q(s=B_data[2],l=B_data[3],error=error)\n",
    "\tqc = quantum_circuit(qstate, Q, deltat)\n",
    "\tj += 1\n",
    "\n"
   ],
   "id": "17615b2a4f4acb55",
   "outputs": [
    {
     "ename": "KeyboardInterrupt",
     "evalue": "",
     "output_type": "error",
     "traceback": [
      "\u001B[31m---------------------------------------------------------------------------\u001B[39m",
      "\u001B[31mKeyboardInterrupt\u001B[39m                         Traceback (most recent call last)",
      "\u001B[36mFile \u001B[39m\u001B[32m_zmq.py:160\u001B[39m, in \u001B[36mzmq.backend.cython._zmq._check_rc\u001B[39m\u001B[34m()\u001B[39m\n",
      "\u001B[31mKeyboardInterrupt\u001B[39m: "
     ]
    },
    {
     "name": "stderr",
     "output_type": "stream",
     "text": [
      "Exception ignored in: 'zmq.backend.cython._zmq.Frame.__del__'\n",
      "Traceback (most recent call last):\n",
      "  File \"_zmq.py\", line 160, in zmq.backend.cython._zmq._check_rc\n",
      "KeyboardInterrupt: \n",
      "\n",
      "KeyboardInterrupt\n",
      "\n",
      "Exception ignored in: 'zmq.backend.cython._zmq.Frame.__del__'\n",
      "Traceback (most recent call last):\n",
      "  File \"_zmq.py\", line 160, in zmq.backend.cython._zmq._check_rc\n",
      "KeyboardInterrupt: \n"
     ]
    },
    {
     "ename": "KeyboardInterrupt",
     "evalue": "",
     "output_type": "error",
     "traceback": [
      "\u001B[31m---------------------------------------------------------------------------\u001B[39m",
      "\u001B[31mKeyboardInterrupt\u001B[39m                         Traceback (most recent call last)",
      "\u001B[36mCell\u001B[39m\u001B[36m \u001B[39m\u001B[32mIn[73]\u001B[39m\u001B[32m, line 67\u001B[39m\n\u001B[32m     65\u001B[39m B_data = B_samples[j]\n\u001B[32m     66\u001B[39m Q = get_Q(s=B_data[\u001B[32m2\u001B[39m],l=B_data[\u001B[32m3\u001B[39m],error=error)\n\u001B[32m---> \u001B[39m\u001B[32m67\u001B[39m qc = quantum_circuit(qstate, Q, deltat)\n\u001B[32m     68\u001B[39m j += \u001B[32m1\u001B[39m\n",
      "\u001B[36mCell\u001B[39m\u001B[36m \u001B[39m\u001B[32mIn[72]\u001B[39m\u001B[32m, line 20\u001B[39m, in \u001B[36mquantum_circuit\u001B[39m\u001B[34m(qstate, Q, deltat)\u001B[39m\n\u001B[32m     18\u001B[39m \u001B[38;5;28;01mfor\u001B[39;00m i \u001B[38;5;129;01min\u001B[39;00m \u001B[38;5;28mrange\u001B[39m(\u001B[32m1\u001B[39m,Q+\u001B[32m1\u001B[39m):\n\u001B[32m     19\u001B[39m \tqc.initialize(qstate, rho_copies[\u001B[32m1\u001B[39m], normalize=\u001B[38;5;28;01mTrue\u001B[39;00m)\n\u001B[32m---> \u001B[39m\u001B[32m20\u001B[39m \tapply_swap_exponentiation(qc, qc_s, qc_m, rho_copies, deltat)\n\u001B[32m     23\u001B[39m qc.h(qc_m)\n\u001B[32m     24\u001B[39m qc.measure(qc_m,creq)\n",
      "\u001B[36mCell\u001B[39m\u001B[36m \u001B[39m\u001B[32mIn[16]\u001B[39m\u001B[32m, line 31\u001B[39m, in \u001B[36mapply_swap_exponentiation\u001B[39m\u001B[34m(mother_circ, qc_s, qc_m, rho_copies, deltat, inverse)\u001B[39m\n\u001B[32m     29\u001B[39m \u001B[38;5;28;01mdef\u001B[39;00m\u001B[38;5;250m \u001B[39m\u001B[34mapply_swap_exponentiation\u001B[39m(mother_circ, qc_s, qc_m, rho_copies, deltat, inverse=\u001B[38;5;28;01mFalse\u001B[39;00m):\n\u001B[32m     30\u001B[39m \tswap_exp_block = swap_exponentiation(qc_s, qc_m, rho_copies, deltat)\n\u001B[32m---> \u001B[39m\u001B[32m31\u001B[39m \tmother_circ.append(swap_exp_block, mother_circ.qubits) \u001B[38;5;28;01mif\u001B[39;00m \u001B[38;5;129;01mnot\u001B[39;00m inverse \u001B[38;5;28;01melse\u001B[39;00m mother_circ.append(swap_exp_block.inverse(), mother_circ.qubits)\n",
      "\u001B[36mFile \u001B[39m\u001B[32m~\\miniconda3\\envs\\A-Practical-Guide-to-Quantum-Machine-Learning-and-Quantum-Optimization\\Lib\\site-packages\\qiskit\\circuit\\quantumcircuit.py:2477\u001B[39m, in \u001B[36mQuantumCircuit.append\u001B[39m\u001B[34m(self, instruction, qargs, cargs, copy)\u001B[39m\n\u001B[32m   2475\u001B[39m \u001B[38;5;28;01mif\u001B[39;00m \u001B[38;5;129;01mnot\u001B[39;00m \u001B[38;5;28misinstance\u001B[39m(operation, Operation):\n\u001B[32m   2476\u001B[39m     \u001B[38;5;28;01mif\u001B[39;00m \u001B[38;5;28mhasattr\u001B[39m(operation, \u001B[33m\"\u001B[39m\u001B[33mto_instruction\u001B[39m\u001B[33m\"\u001B[39m):\n\u001B[32m-> \u001B[39m\u001B[32m2477\u001B[39m         operation = operation.to_instruction()\n\u001B[32m   2478\u001B[39m         \u001B[38;5;28;01mif\u001B[39;00m \u001B[38;5;129;01mnot\u001B[39;00m \u001B[38;5;28misinstance\u001B[39m(operation, Operation):\n\u001B[32m   2479\u001B[39m             \u001B[38;5;28;01mraise\u001B[39;00m CircuitError(\u001B[33m\"\u001B[39m\u001B[33moperation.to_instruction() is not an Operation.\u001B[39m\u001B[33m\"\u001B[39m)\n",
      "\u001B[36mFile \u001B[39m\u001B[32m~\\miniconda3\\envs\\A-Practical-Guide-to-Quantum-Machine-Learning-and-Quantum-Optimization\\Lib\\site-packages\\qiskit\\circuit\\quantumcircuit.py:3185\u001B[39m, in \u001B[36mQuantumCircuit.to_instruction\u001B[39m\u001B[34m(self, parameter_map, label)\u001B[39m\n\u001B[32m   3166\u001B[39m \u001B[38;5;250m\u001B[39m\u001B[33;03m\"\"\"Create an :class:`~.circuit.Instruction` out of this circuit.\u001B[39;00m\n\u001B[32m   3167\u001B[39m \n\u001B[32m   3168\u001B[39m \u001B[33;03m.. seealso::\u001B[39;00m\n\u001B[32m   (...)\u001B[39m\u001B[32m   3181\u001B[39m \u001B[33;03m        decomposed back).\u001B[39;00m\n\u001B[32m   3182\u001B[39m \u001B[33;03m\"\"\"\u001B[39;00m\n\u001B[32m   3183\u001B[39m \u001B[38;5;28;01mfrom\u001B[39;00m\u001B[38;5;250m \u001B[39m\u001B[34;01mqiskit\u001B[39;00m\u001B[34;01m.\u001B[39;00m\u001B[34;01mconverters\u001B[39;00m\u001B[34;01m.\u001B[39;00m\u001B[34;01mcircuit_to_instruction\u001B[39;00m\u001B[38;5;250m \u001B[39m\u001B[38;5;28;01mimport\u001B[39;00m circuit_to_instruction\n\u001B[32m-> \u001B[39m\u001B[32m3185\u001B[39m \u001B[38;5;28;01mreturn\u001B[39;00m circuit_to_instruction(\u001B[38;5;28mself\u001B[39m, parameter_map, label=label)\n",
      "\u001B[36mFile \u001B[39m\u001B[32m~\\miniconda3\\envs\\A-Practical-Guide-to-Quantum-Machine-Learning-and-Quantum-Optimization\\Lib\\site-packages\\qiskit\\converters\\circuit_to_instruction.py:143\u001B[39m, in \u001B[36mcircuit_to_instruction\u001B[39m\u001B[34m(circuit, parameter_map, equivalence_library, label)\u001B[39m\n\u001B[32m    140\u001B[39m     operation_map[original_id] = op\n\u001B[32m    141\u001B[39m     \u001B[38;5;28;01mreturn\u001B[39;00m op\n\u001B[32m--> \u001B[39m\u001B[32m143\u001B[39m data = target._data.copy()\n\u001B[32m    144\u001B[39m data.replace_bits(qubits=qreg, clbits=creg)\n\u001B[32m    145\u001B[39m data.map_nonstandard_ops(fix_condition)\n",
      "\u001B[36mFile \u001B[39m\u001B[32m~\\miniconda3\\envs\\A-Practical-Guide-to-Quantum-Machine-Learning-and-Quantum-Optimization\\Lib\\site-packages\\qiskit\\circuit\\instruction.py:533\u001B[39m, in \u001B[36mInstruction.copy\u001B[39m\u001B[34m(self, name)\u001B[39m\n\u001B[32m    522\u001B[39m \u001B[38;5;28;01mdef\u001B[39;00m\u001B[38;5;250m \u001B[39m\u001B[34mcopy\u001B[39m(\u001B[38;5;28mself\u001B[39m, name=\u001B[38;5;28;01mNone\u001B[39;00m):\n\u001B[32m    523\u001B[39m \u001B[38;5;250m    \u001B[39m\u001B[33;03m\"\"\"\u001B[39;00m\n\u001B[32m    524\u001B[39m \u001B[33;03m    Copy of the instruction.\u001B[39;00m\n\u001B[32m    525\u001B[39m \n\u001B[32m   (...)\u001B[39m\u001B[32m    531\u001B[39m \u001B[33;03m        was provided\u001B[39;00m\n\u001B[32m    532\u001B[39m \u001B[33;03m    \"\"\"\u001B[39;00m\n\u001B[32m--> \u001B[39m\u001B[32m533\u001B[39m     cpy = \u001B[38;5;28mself\u001B[39m.__deepcopy__()\n\u001B[32m    535\u001B[39m     \u001B[38;5;28;01mif\u001B[39;00m name:\n\u001B[32m    536\u001B[39m         cpy.name = name\n",
      "\u001B[36mFile \u001B[39m\u001B[32m~\\miniconda3\\envs\\A-Practical-Guide-to-Quantum-Machine-Learning-and-Quantum-Optimization\\Lib\\site-packages\\qiskit\\circuit\\instruction.py:543\u001B[39m, in \u001B[36mInstruction.__deepcopy__\u001B[39m\u001B[34m(self, memo)\u001B[39m\n\u001B[32m    541\u001B[39m cpy._params = copy.copy(\u001B[38;5;28mself\u001B[39m._params)\n\u001B[32m    542\u001B[39m \u001B[38;5;28;01mif\u001B[39;00m \u001B[38;5;28mself\u001B[39m._definition:\n\u001B[32m--> \u001B[39m\u001B[32m543\u001B[39m     cpy._definition = copy.deepcopy(\u001B[38;5;28mself\u001B[39m._definition, memo)\n\u001B[32m    544\u001B[39m \u001B[38;5;28;01mreturn\u001B[39;00m cpy\n",
      "\u001B[36mFile \u001B[39m\u001B[32m~\\miniconda3\\envs\\A-Practical-Guide-to-Quantum-Machine-Learning-and-Quantum-Optimization\\Lib\\copy.py:143\u001B[39m, in \u001B[36mdeepcopy\u001B[39m\u001B[34m(x, memo, _nil)\u001B[39m\n\u001B[32m    141\u001B[39m copier = \u001B[38;5;28mgetattr\u001B[39m(x, \u001B[33m\"\u001B[39m\u001B[33m__deepcopy__\u001B[39m\u001B[33m\"\u001B[39m, \u001B[38;5;28;01mNone\u001B[39;00m)\n\u001B[32m    142\u001B[39m \u001B[38;5;28;01mif\u001B[39;00m copier \u001B[38;5;129;01mis\u001B[39;00m \u001B[38;5;129;01mnot\u001B[39;00m \u001B[38;5;28;01mNone\u001B[39;00m:\n\u001B[32m--> \u001B[39m\u001B[32m143\u001B[39m     y = copier(memo)\n\u001B[32m    144\u001B[39m \u001B[38;5;28;01melse\u001B[39;00m:\n\u001B[32m    145\u001B[39m     reductor = dispatch_table.get(\u001B[38;5;28mcls\u001B[39m)\n",
      "\u001B[36mFile \u001B[39m\u001B[32m~\\miniconda3\\envs\\A-Practical-Guide-to-Quantum-Machine-Learning-and-Quantum-Optimization\\Lib\\site-packages\\qiskit\\circuit\\quantumcircuit.py:1413\u001B[39m, in \u001B[36mQuantumCircuit.__deepcopy__\u001B[39m\u001B[34m(self, memo)\u001B[39m\n\u001B[32m   1409\u001B[39m result._builder_api = _OuterCircuitScopeInterface(result)\n\u001B[32m   1411\u001B[39m \u001B[38;5;66;03m# Avoids pulling self._data into a Python list\u001B[39;00m\n\u001B[32m   1412\u001B[39m \u001B[38;5;66;03m# like we would when pickling.\u001B[39;00m\n\u001B[32m-> \u001B[39m\u001B[32m1413\u001B[39m result._data = \u001B[38;5;28mself\u001B[39m._data.copy(deepcopy=\u001B[38;5;28;01mTrue\u001B[39;00m)\n\u001B[32m   1414\u001B[39m result._data.replace_bits(\n\u001B[32m   1415\u001B[39m     qubits=_copy.deepcopy(\u001B[38;5;28mself\u001B[39m._data.qubits, memo),\n\u001B[32m   1416\u001B[39m     clbits=_copy.deepcopy(\u001B[38;5;28mself\u001B[39m._data.clbits, memo),\n\u001B[32m   1417\u001B[39m )\n\u001B[32m   1418\u001B[39m \u001B[38;5;28;01mreturn\u001B[39;00m result\n",
      "\u001B[36mFile \u001B[39m\u001B[32m~\\miniconda3\\envs\\A-Practical-Guide-to-Quantum-Machine-Learning-and-Quantum-Optimization\\Lib\\copy.py:143\u001B[39m, in \u001B[36mdeepcopy\u001B[39m\u001B[34m(x, memo, _nil)\u001B[39m\n\u001B[32m    141\u001B[39m copier = \u001B[38;5;28mgetattr\u001B[39m(x, \u001B[33m\"\u001B[39m\u001B[33m__deepcopy__\u001B[39m\u001B[33m\"\u001B[39m, \u001B[38;5;28;01mNone\u001B[39;00m)\n\u001B[32m    142\u001B[39m \u001B[38;5;28;01mif\u001B[39;00m copier \u001B[38;5;129;01mis\u001B[39;00m \u001B[38;5;129;01mnot\u001B[39;00m \u001B[38;5;28;01mNone\u001B[39;00m:\n\u001B[32m--> \u001B[39m\u001B[32m143\u001B[39m     y = copier(memo)\n\u001B[32m    144\u001B[39m \u001B[38;5;28;01melse\u001B[39;00m:\n\u001B[32m    145\u001B[39m     reductor = dispatch_table.get(\u001B[38;5;28mcls\u001B[39m)\n",
      "\u001B[36mFile \u001B[39m\u001B[32m~\\miniconda3\\envs\\A-Practical-Guide-to-Quantum-Machine-Learning-and-Quantum-Optimization\\Lib\\site-packages\\qiskit\\circuit\\instruction.py:541\u001B[39m, in \u001B[36mInstruction.__deepcopy__\u001B[39m\u001B[34m(self, memo)\u001B[39m\n\u001B[32m    539\u001B[39m \u001B[38;5;28;01mdef\u001B[39;00m\u001B[38;5;250m \u001B[39m\u001B[34m__deepcopy__\u001B[39m(\u001B[38;5;28mself\u001B[39m, memo=\u001B[38;5;28;01mNone\u001B[39;00m):\n\u001B[32m    540\u001B[39m     cpy = copy.copy(\u001B[38;5;28mself\u001B[39m)\n\u001B[32m--> \u001B[39m\u001B[32m541\u001B[39m     cpy._params = copy.copy(\u001B[38;5;28mself\u001B[39m._params)\n\u001B[32m    542\u001B[39m     \u001B[38;5;28;01mif\u001B[39;00m \u001B[38;5;28mself\u001B[39m._definition:\n\u001B[32m    543\u001B[39m         cpy._definition = copy.deepcopy(\u001B[38;5;28mself\u001B[39m._definition, memo)\n",
      "\u001B[36mFile \u001B[39m\u001B[32m~\\miniconda3\\envs\\A-Practical-Guide-to-Quantum-Machine-Learning-and-Quantum-Optimization\\Lib\\copy.py:69\u001B[39m, in \u001B[36mcopy\u001B[39m\u001B[34m(x)\u001B[39m\n\u001B[32m     62\u001B[39m \u001B[38;5;250m\u001B[39m\u001B[33;03m\"\"\"Shallow copy operation on arbitrary Python objects.\u001B[39;00m\n\u001B[32m     63\u001B[39m \n\u001B[32m     64\u001B[39m \u001B[33;03mSee the module's __doc__ string for more info.\u001B[39;00m\n\u001B[32m     65\u001B[39m \u001B[33;03m\"\"\"\u001B[39;00m\n\u001B[32m     67\u001B[39m \u001B[38;5;28mcls\u001B[39m = \u001B[38;5;28mtype\u001B[39m(x)\n\u001B[32m---> \u001B[39m\u001B[32m69\u001B[39m copier = _copy_dispatch.get(\u001B[38;5;28mcls\u001B[39m)\n\u001B[32m     70\u001B[39m \u001B[38;5;28;01mif\u001B[39;00m copier:\n\u001B[32m     71\u001B[39m     \u001B[38;5;28;01mreturn\u001B[39;00m copier(x)\n",
      "\u001B[31mKeyboardInterrupt\u001B[39m: "
     ]
    }
   ],
   "execution_count": 73
  },
  {
   "metadata": {},
   "cell_type": "code",
   "outputs": [],
   "execution_count": null,
   "source": "",
   "id": "c43e03b843f14f7a"
  }
 ],
 "metadata": {
  "kernelspec": {
   "display_name": "Python 3",
   "language": "python",
   "name": "python3"
  },
  "language_info": {
   "codemirror_mode": {
    "name": "ipython",
    "version": 2
   },
   "file_extension": ".py",
   "mimetype": "text/x-python",
   "name": "python",
   "nbconvert_exporter": "python",
   "pygments_lexer": "ipython2",
   "version": "2.7.6"
  }
 },
 "nbformat": 4,
 "nbformat_minor": 5
}
