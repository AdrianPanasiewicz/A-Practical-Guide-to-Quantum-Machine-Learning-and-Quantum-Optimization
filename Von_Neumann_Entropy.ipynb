{
 "cells": [
  {
   "metadata": {
    "ExecuteTime": {
     "end_time": "2025-08-27T11:30:59.974111Z",
     "start_time": "2025-08-27T11:30:59.969613Z"
    }
   },
   "cell_type": "code",
   "source": [
    "import qiskit\n",
    "import math\n",
    "import random\n",
    "import numpy as np\n",
    "from matplotlib import pyplot as plt"
   ],
   "id": "de79977987e91668",
   "outputs": [],
   "execution_count": 284
  },
  {
   "metadata": {},
   "cell_type": "markdown",
   "source": [
    "# Input:\n",
    " Constants epsilon, δ, Λ ∈ (0, 1), and copies of state ρ ∈ C2n×2n ."
   ],
   "id": "32c9b12b1c892088"
  },
  {
   "cell_type": "code",
   "id": "initial_id",
   "metadata": {
    "collapsed": true,
    "ExecuteTime": {
     "end_time": "2025-08-27T11:31:00.002497Z",
     "start_time": "2025-08-27T11:30:59.996703Z"
    }
   },
   "source": [
    "def generate_rho(ev_delta, n):\n",
    "\tdim = pow(2,n)\n",
    "\tif ev_delta > 1:\n",
    "\t\traise ValueError(\"ev_delta must be less than or equal to 1\")\n",
    "\tEV = []\n",
    "\tfor i in range(dim):\n",
    "\t\tif sum(EV) <= 1 - ev_delta:\n",
    "\t\t\tphi_ev = random.uniform(ev_delta, 1-sum(EV))\n",
    "\t\t\tif 1-sum(EV)-phi_ev-ev_delta < 0:\n",
    "\t\t\t\tphi_ev = 1-sum(EV)\n",
    "\t\t\tEV.append(phi_ev)\n",
    "\t\telse:\n",
    "\t\t\tEV.append(0)\n",
    "\tEV = EV\n",
    "\trho = np.diag(EV)\n",
    "\n",
    "\tZ = np.random.randn(dim, dim) + 1j*np.random.randn(dim, dim)\n",
    "\tR, _ = np.linalg.qr(Z)\n",
    "\n",
    "\trho = R @ rho @ R.conj().T\n",
    "\treturn rho"
   ],
   "outputs": [],
   "execution_count": 285
  },
  {
   "metadata": {
    "ExecuteTime": {
     "end_time": "2025-08-27T11:31:00.026251Z",
     "start_time": "2025-08-27T11:31:00.021778Z"
    }
   },
   "cell_type": "code",
   "source": [
    "epsilon = 0.2\n",
    "delta = 0.05\n",
    "ev_delta = 0.1\n",
    "n = 1\n",
    "rho = generate_rho(ev_delta, n)\n",
    "print(rho)"
   ],
   "id": "28b6e76de286d1f1",
   "outputs": [
    {
     "name": "stdout",
     "output_type": "stream",
     "text": [
      "[[ 0.28018401+0.j         -0.04840408-0.23373267j]\n",
      " [-0.04840408+0.23373267j  0.71981599+0.j        ]]\n"
     ]
    }
   ],
   "execution_count": 286
  },
  {
   "metadata": {},
   "cell_type": "markdown",
   "source": [
    "# Algorithm\n",
    "## Step 1\n",
    "Compute coefficients L, K, Ml, and b(k)  l as given in Lemma 1."
   ],
   "id": "56294e91e0f01fe9"
  },
  {
   "metadata": {
    "ExecuteTime": {
     "end_time": "2025-08-27T11:31:00.329790Z",
     "start_time": "2025-08-27T11:31:00.049091Z"
    }
   },
   "cell_type": "code",
   "source": [
    "K = math.ceil(np.log(epsilon*ev_delta)/np.log(1-ev_delta)) # Number of elements in truncated Taylor series\n",
    "l_part = 0\n",
    "for i in range(1,K+1):\n",
    "\tl_part += 1/i\n",
    "l_part = 4 * l_part / epsilon\n",
    "L = math.log1p(l_part) * 1 / (ev_delta * ev_delta)\n",
    "M = []\n",
    "for l in range(math.floor(L)+1):\n",
    "\tMl = math.ceil(math.sqrt(math.log1p(l_part)*l/2))\n",
    "\tM.append(Ml)\n",
    "\n",
    "# Calculating blk\n",
    "def get_B(K, L):\n",
    "\tbkl_matrix = []\n",
    "\tfor k in range(1, K + 1):\n",
    "\t\tbl_array = []\n",
    "\t\tfor l in range(math.floor(L)+1):\n",
    "\t\t\tif k == 1:\n",
    "\t\t\t\tif l%2 == 0:\n",
    "\t\t\t\t\tblk = 0.0\n",
    "\t\t\t\telse:\n",
    "\t\t\t\t\tblk = 2 * math.comb(l-1,int((l-1)/2))/(math.pi*math.pow(2,l-1)*l)\n",
    "\t\t\t\tbl_array.append(blk)\n",
    "\t\t\telse:\n",
    "\t\t\t\tblk = 0.0\n",
    "\t\t\t\tfor l_prime in range(l+1):\n",
    "\t\t\t\t\tblk += bkl_matrix[k-2][l_prime]*bkl_matrix[0][l-l_prime]\n",
    "\t\t\t\tbl_array.append(blk)\n",
    "\n",
    "\t\tbkl_matrix.append(bl_array)\n",
    "\n",
    "\treturn bkl_matrix\n",
    "\n",
    "B = get_B(K, L)\n",
    "\n",
    "U = []\n",
    "for l in range(math.floor(L+1)):\n",
    "\tUl = min(l,math.ceil(L/2)+M[l])\n",
    "\tU.append(Ul)\n",
    "\n",
    "D = []\n",
    "for l in range(math.floor(L+1)):\n",
    "\tDl = max(0, math.floor(l/2)-M[l])\n",
    "\tD.append(Dl)\n",
    "\n",
    "def t(s,l):\n",
    "\treturn (2*s-l)*math.pi/2\n",
    "\n",
    "# Variables K, l, M, B, U, D, t"
   ],
   "id": "b70c8929452551dd",
   "outputs": [],
   "execution_count": 287
  },
  {
   "metadata": {},
   "cell_type": "markdown",
   "source": [
    "## Step 2\n",
    " Compute ‖f ‖l_1 , as given in Eq. (31)."
   ],
   "id": "7b5b7a8c1d2bae06"
  },
  {
   "metadata": {
    "ExecuteTime": {
     "end_time": "2025-08-27T11:31:00.878416Z",
     "start_time": "2025-08-27T11:31:00.345285Z"
    }
   },
   "cell_type": "code",
   "source": [
    "def get_f(s,l):\n",
    "\tk_sum= 0\n",
    "\tfor k in range(1,K+1):\n",
    "\t\tk_sum += B[k-1][l]/k\n",
    "\treturn k_sum*math.comb(l,s)/math.pow(2,l)\n",
    "\n",
    "F = np.array([])\n",
    "for l in range(math.floor(L)+1):\n",
    "\tfor s in range(D[l],U[l]+1):\n",
    "\t\tf = get_f(s,l)\n",
    "\t\tF = np.append(F, f)\n",
    "\n",
    "F_norm = np.linalg.norm(F, ord = 1)\n",
    "print(F_norm)"
   ],
   "id": "e739640a4c71422c",
   "outputs": [
    {
     "name": "stdout",
     "output_type": "stream",
     "text": [
      "3.3676828881440906\n"
     ]
    }
   ],
   "execution_count": 288
  },
  {
   "metadata": {},
   "cell_type": "markdown",
   "source": [
    "## Step 3\n",
    "Set estimation error ε = epsilon/‖f ‖l_1"
   ],
   "id": "e38fc578bdf95e23"
  },
  {
   "metadata": {
    "ExecuteTime": {
     "end_time": "2025-08-27T11:31:00.898530Z",
     "start_time": "2025-08-27T11:31:00.894052Z"
    }
   },
   "cell_type": "code",
   "source": [
    "error = epsilon/F_norm\n",
    "print(error)"
   ],
   "id": "437e3c36e025c593",
   "outputs": [
    {
     "name": "stdout",
     "output_type": "stream",
     "text": [
      "0.05938801444283811\n"
     ]
    }
   ],
   "execution_count": 289
  },
  {
   "metadata": {},
   "cell_type": "markdown",
   "source": [
    "## Step 4\n",
    "Set integer N = ∑bLc  l=0(2Ml + 1)."
   ],
   "id": "ca1dc8dc99696ca4"
  },
  {
   "metadata": {
    "ExecuteTime": {
     "end_time": "2025-08-27T11:31:00.928033Z",
     "start_time": "2025-08-27T11:31:00.923611Z"
    }
   },
   "cell_type": "code",
   "source": [
    "N = 0\n",
    "for l in range(math.floor(L)-1):\n",
    "\tN += 2*M[l]+1\n",
    "print(N)"
   ],
   "id": "10daa5d0e5c09c7d",
   "outputs": [
    {
     "name": "stdout",
     "output_type": "stream",
     "text": [
      "19399\n"
     ]
    }
   ],
   "execution_count": 290
  },
  {
   "metadata": {},
   "cell_type": "markdown",
   "source": [
    "## Step 5\n",
    "Define a distribution as in Eq. (32)."
   ],
   "id": "4fb61c43aa6ec276"
  },
  {
   "metadata": {
    "ExecuteTime": {
     "end_time": "2025-08-27T11:31:01.745999Z",
     "start_time": "2025-08-27T11:31:00.947421Z"
    }
   },
   "cell_type": "code",
   "source": [
    "class ImportanceSampling:\n",
    "\tdef __init__(self, rho, D, U, F_norm):\n",
    "\t\tself.samples = []\n",
    "\t\tcurrent_max = 0\n",
    "\t\tfor l in range(math.floor(L)+1):\n",
    "\t\t\tfor s in range(D[l],U[l]+1):\n",
    "\t\t\t\tR = np.trace(rho*np.cos(rho*(2*s-l)*math.pi/2))\n",
    "\t\t\t\tprob_density = get_f(s,l)/F_norm\n",
    "\t\t\t\tcurrent_max += prob_density\n",
    "\t\t\t\tpair = [current_max, R]\n",
    "\t\t\t\tself.samples.append(pair)\n",
    "\n",
    "\tdef generate_sample(self):\n",
    "\t\trand_val = random.uniform(0,1)\n",
    "\t\tfor i in range(len(self.samples)):\n",
    "\t\t\tif rand_val <= self.samples[i][0]:\n",
    "\t\t\t\treturn self.samples[i][1]\n",
    "\n",
    "importance_sampler = ImportanceSampling(rho, D, U, F_norm)\n",
    "sample = importance_sampler.generate_sample()\n",
    "print(sample)\n",
    "\n",
    "R_values = [s[1] for s in importance_sampler.samples]\n",
    "\n",
    "plt.hist(R_values, bins=30, density=True)\n",
    "plt.xlabel(\"R value\")\n",
    "plt.ylabel(\"Probability Density\")\n",
    "plt.title(\"Importance Sampling Distribution\")\n",
    "plt.show()"
   ],
   "id": "ab61cd908c0b9bc7",
   "outputs": [
    {
     "name": "stdout",
     "output_type": "stream",
     "text": [
      "(0.4167158410808449+0j)\n"
     ]
    },
    {
     "data": {
      "text/plain": [
       "<Figure size 640x480 with 1 Axes>"
      ],
      "image/png": "[encoded data removed]"
     },
     "metadata": {},
     "output_type": "display_data"
    }
   ],
   "execution_count": 291
  },
  {
   "metadata": {},
   "cell_type": "markdown",
   "source": [
    "## Step 6\n",
    "Set integer B = #Samples as in Eq. (34)."
   ],
   "id": "3c8c4530a22731b1"
  },
  {
   "metadata": {
    "ExecuteTime": {
     "end_time": "2025-08-27T11:31:01.765413Z",
     "start_time": "2025-08-27T11:31:01.761265Z"
    }
   },
   "cell_type": "code",
   "source": [
    "B_n_samples = round((F_norm/epsilon)**2*np.log(2/delta))\n",
    "print(f\"Required number of samples: {B_n_samples}\")"
   ],
   "id": "b0e33c6339f84c6b",
   "outputs": [
    {
     "name": "stdout",
     "output_type": "stream",
     "text": [
      "Required number of samples: 1046\n"
     ]
    }
   ],
   "execution_count": 292
  },
  {
   "metadata": {},
   "cell_type": "markdown",
   "source": [
    "## Step 7\n",
    "Sample B pairs of (s1, l1), . . ., (sB, lB)."
   ],
   "id": "7ac724a2610ee4f4"
  },
  {
   "metadata": {
    "ExecuteTime": {
     "end_time": "2025-08-27T11:31:53.144608Z",
     "start_time": "2025-08-27T11:31:52.849157Z"
    }
   },
   "cell_type": "code",
   "source": [
    "B_samples = []\n",
    "for b in range(1,B_n_samples+1):\n",
    "\tsample = importance_sampler.generate_sample()\n",
    "\tB_samples.append(sample)\n",
    "b_samples = np.array(B_samples)\n",
    "\n",
    "print(B_samples[:5])\n"
   ],
   "id": "45ec72e2b7b5c1c8",
   "outputs": [
    {
     "name": "stdout",
     "output_type": "stream",
     "text": [
      "[np.complex128(0.5601545662201344+0j), np.complex128(-0.7172705111943954+0j), np.complex128(-0.18851688547133794+0j), np.complex128(-0.2800360998422846+0j), np.complex128(-0.6279130294935807+0j)]\n"
     ]
    }
   ],
   "execution_count": 297
  },
  {
   "metadata": {},
   "cell_type": "markdown",
   "source": [
    "# Functions for steps from 10 to 12\n",
    "## Function for step 10\n"
   ],
   "id": "defe088e3d7a6ad0"
  },
  {
   "metadata": {},
   "cell_type": "code",
   "outputs": [],
   "execution_count": null,
   "source": "pass",
   "id": "e484e7bdc0d5f6a"
  },
  {
   "metadata": {},
   "cell_type": "markdown",
   "source": "## Function for step 11",
   "id": "907e2a64bc3ea491"
  },
  {
   "metadata": {},
   "cell_type": "code",
   "outputs": [],
   "execution_count": null,
   "source": "pass",
   "id": "e34776f48243212"
  },
  {
   "metadata": {},
   "cell_type": "markdown",
   "source": "## Function for step 12",
   "id": "aefe086e47971c65"
  },
  {
   "metadata": {},
   "cell_type": "code",
   "outputs": [],
   "execution_count": null,
   "source": "pass",
   "id": "5debe88421a03935"
  },
  {
   "metadata": {},
   "cell_type": "markdown",
   "source": "## Step 8 - 16\n",
   "id": "d139503414f8f2a4"
  },
  {
   "metadata": {},
   "cell_type": "code",
   "outputs": [],
   "execution_count": null,
   "source": "pass",
   "id": "17615b2a4f4acb55"
  }
 ],
 "metadata": {
  "kernelspec": {
   "display_name": "Python 3",
   "language": "python",
   "name": "python3"
  },
  "language_info": {
   "codemirror_mode": {
    "name": "ipython",
    "version": 2
   },
   "file_extension": ".py",
   "mimetype": "text/x-python",
   "name": "python",
   "nbconvert_exporter": "python",
   "pygments_lexer": "ipython2",
   "version": "2.7.6"
  }
 },
 "nbformat": 4,
 "nbformat_minor": 5
}
